{
 "cells": [
  {
   "cell_type": "markdown",
   "metadata": {},
   "source": [
    "# Understanding Loan Approval Through the Payment Protection Program"
   ]
  },
  {
   "cell_type": "markdown",
   "metadata": {},
   "source": [
    "Kira Loshin"
   ]
  },
  {
   "cell_type": "markdown",
   "metadata": {},
   "source": [
    "## Introduction"
   ]
  },
  {
   "cell_type": "markdown",
   "metadata": {},
   "source": [
    "In mid-2020, as the Coronavirus pandemic continued to have a global effect on the world economy, the United States created the [Payment Protection Program (PPP)](https://home.treasury.gov/policy-issues/coronavirus/assistance-for-small-businesses/paycheck-protection-program) to enable small businesses to continue to keep their workers on payroll. This program, which was run through the Small Business Association (SBA), allowed small businesses (< 500 employees) to apply for a low-interest private loan equal to about 10 weeks of pay. If the business continued to stay open and pay its employees, the loan was then forgiven by the government. The PPP had two rounds of loans: one in June 2020 and one in January 2021.\n",
    "\n",
    "The loan amount was calculated as follows: $$L = \\dfrac{yearly\\_salary}{12} * 2.5$$ \n",
    "\n",
    "\n",
    "The way this funding worked was thaat first a small business would calculate their costs. For example, if a small business which comprised of a single employee made \\\\$100,000 a year, they would apply for a loan totalling \\\\$20,833. They would apply for this loan through their bank (known as the originating lender). If their loan forgiveness was approved, the SBA would then give give the small business's bank the reimbursement amount and the bank would then disburse that amount to the business. \n",
    "\n",
    "However, despite it being almost a year since the second round of loans has passed, many small business have not yet received their reimbursements. Can we find any reasons why some businesses may have received reimbursements while others have not? Can we attribute this to something specific to a small business or are there larger things at play with the originating lenders? When doing some initial data analysis on this dataset, there were some interesting things discovered about potential fraud both within the small businesses as well as the banks holding the reimbusement funds.\n",
    "\n",
    "This analysis will look at individuals who applied for a PPP loan."
   ]
  },
  {
   "cell_type": "markdown",
   "metadata": {},
   "source": [
    "#### Importing Relevant Library Packages"
   ]
  },
  {
   "cell_type": "code",
   "execution_count": 96,
   "metadata": {},
   "outputs": [],
   "source": [
    "import numpy as np\n",
    "import sklearn.datasets\n",
    "import matplotlib.pyplot as plt\n",
    "import seaborn as sns\n",
    "import pandas as pd\n",
    "\n",
    "from bs4 import BeautifulSoup\n",
    "from urllib.request import urlopen\n",
    "from urllib.error import HTTPError\n",
    "import requests\n",
    "\n",
    "import folium\n",
    "from folium.plugins import TimestampedGeoJson\n",
    "import pgeocode\n",
    "\n",
    "import statsmodels.formula.api\n",
    "import statsmodels.api as sm\n",
    "import statistics as stats\n",
    "\n",
    "from sklearn.linear_model import LogisticRegression\n",
    "from sklearn.ensemble import RandomForestClassifier\n",
    "from sklearn.model_selection import RandomizedSearchCV\n",
    "from sklearn.tree import DecisionTreeClassifier\n",
    "from sklearn.datasets import make_classification\n",
    "from sklearn.model_selection import train_test_split\n",
    "from sklearn.model_selection import cross_val_score\n",
    "from sklearn.model_selection import KFold\n",
    "\n",
    "import warnings"
   ]
  },
  {
   "cell_type": "markdown",
   "metadata": {},
   "source": [
    "We will be using several Python packages to complete to complete this analysis. Some of the more important ones that will be used are [Pandas](https://pandas.pydata.org/), [Seaborn](https://seaborn.pydata.org/), [BeautifulSoup](https://www.crummy.com/software/BeautifulSoup/bs4/doc/), [Folium](http://python-visualization.github.io/folium/), and [ScikitLearn](https://scikit-learn.org/stable/). Each webpage links to the library documentation for each package. These are each great resources to learn more about the libraries used here.\n",
    "- Pandas and BeautifulSoup were both used to organize and work with the data.\n",
    "- Seaborn and Folium were used for data visualization.\n",
    "- ScikitLearn was used for machine learning."
   ]
  },
  {
   "cell_type": "code",
   "execution_count": 15,
   "metadata": {},
   "outputs": [],
   "source": [
    "pd.set_option('display.max_columns', None)\n",
    "warnings.filterwarnings('ignore')"
   ]
  },
  {
   "cell_type": "markdown",
   "metadata": {},
   "source": [
    "## Data Collection"
   ]
  },
  {
   "cell_type": "markdown",
   "metadata": {},
   "source": [
    "### Finding The Initial Dataset"
   ]
  },
  {
   "attachments": {},
   "cell_type": "markdown",
   "metadata": {},
   "source": [
    "Data from the PPP can be found [here](https://www.sba.gov/funding-programs/loans/covid-19-relief-options/paycheck-protection-program/ppp-data) on the SBA website. This dataset is comprised of several millions of rows. To make it more feasible for analysis, without loss of generality I decided to limit my analysis just to loans from small businesses in the state of Illinois. Illinos was selected for its relatively [high ranking for business](https://www.cnbc.com/2021/07/13/americas-top-states-for-business.html), [population size](https://worldpopulationreview.com/states), and [political lean](https://www.pewforum.org/religious-landscape-study/compare/party-affiliation/by/state/). This reduced the number of loans down to about 650,000, a more managable amount for this analysis.\n",
    "<br>\n",
    "The attributes for this dataset can understood as follows:\n",
    "- LoanNumber: A unique number for each loan\n",
    "- DateApproved: Date loan was funded\n",
    "- SBAOfficeCode: SBA origination office code\n",
    "- ProcessingMethod: Whether the loan was part of the first round or second round of loans\n",
    "- BorrowerName: Name of borrower\n",
    "- BorrowerAddress: Address of borrower\n",
    "- BorrowerCity: City of borrower\n",
    "- BorrowerState: State of borrower (all IL in this case)\n",
    "- BorrowerZip: Zipcode of borrower\n",
    "- LoanStatusDate: Date for loan status (blank when loan is disbursed byt not paid in full or charged off(\n",
    "- LoanStatus: Status of loan (whether is has been disbursed, paid in full, charged off)\n",
    "- Term: Term of loan\n",
    "- SBAGuarantyPercentage: SBA Guaraty Percentgage\n",
    "- InitialApprovalAmount: Original loan approval amount\n",
    "- CurrentApprovalAmount: Current loan approval amount\n",
    "- UndisbursedAmount: Undisbursed amount \n",
    "- FranchiseName: Name of franchise\n",
    "- ServicingLenderLocationID: Unique identifier for servicing lender\n",
    "- ServicingLenderName: Name of servicing lender\n",
    "- ServicingLenderAddress: Address of servicing lender\n",
    "- ServicingLenderCity: City of servicing lender\n",
    "- ServicingLenderState: State of servicing lender\n",
    "- ServicingLenderZip: Zipcode of servicing lender\n",
    "- RuralUrbanIndicator: Rural or Urban business indicator\n",
    "- HubzoneIndicator: Hubzone business indicator\n",
    "- LMIIndicator: Low or moderate income indicator\n",
    "- BusinessAgeDescription: Age of business\n",
    "- ProjectCity: City of project\n",
    "- ProjectCountyName: County of project\n",
    "- ProjectState: State of project\n",
    "- ProjectZip: Zipcode of project\n",
    "- CD: Congressional district of project\n",
    "- JobsReported: Number of jobs reported\n",
    "- NAICSCode: North American Industry Classification System Code of business\n",
    "- Race: Race of business owner\n",
    "- Ethnicity: Ethnicity of business owner\n",
    "- UTILITIES_PROCEED: Proceed data using for utilities\n",
    "- PAYROLL_PROCEED: Proceed data using for payroll\n",
    "- MORTGAGE_INTEREST_PROCEED: Proceed data using for morgage interest\n",
    "- RENT_PROCEED: Proceed data using for rent\n",
    "- REFINANCE_EIDL_PROCEED: Proceed data using for refinancing\n",
    "- HEALTH_CARE_PROCEED: Proceed data using for healthcare\n",
    "- DEBT_INTEREST_PROCEED: Proceed data using for debt interest\n",
    "- BusinessType: Business type description\n",
    "- OriginatingLenderLocationID: Unique identifier for originating lender\n",
    "- OriginatingLender: Name of originating lender\n",
    "- OriginatingLenderCity: City of originating lender\n",
    "- OriginatingLenderState: State of originating lender\n",
    "- Gender: Gender of business owner\n",
    "- Veteran: Whether the business owner is a veteran\n",
    "- NonProfit: Whether the business is a nonprofit\n",
    "- ForgivenessAmount: Forgiveness amount\n",
    "- ForgivenessDate: Forgiveness paid date"
   ]
  },
  {
   "cell_type": "code",
   "execution_count": 16,
   "metadata": {},
   "outputs": [],
   "source": [
    "loans = pd.read_csv('il_loans.csv')"
   ]
  },
  {
   "cell_type": "code",
   "execution_count": 17,
   "metadata": {},
   "outputs": [
    {
     "data": {
      "text/html": [
       "<div>\n",
       "<style scoped>\n",
       "    .dataframe tbody tr th:only-of-type {\n",
       "        vertical-align: middle;\n",
       "    }\n",
       "\n",
       "    .dataframe tbody tr th {\n",
       "        vertical-align: top;\n",
       "    }\n",
       "\n",
       "    .dataframe thead th {\n",
       "        text-align: right;\n",
       "    }\n",
       "</style>\n",
       "<table border=\"1\" class=\"dataframe\">\n",
       "  <thead>\n",
       "    <tr style=\"text-align: right;\">\n",
       "      <th></th>\n",
       "      <th>LoanNumber</th>\n",
       "      <th>DateApproved</th>\n",
       "      <th>SBAOfficeCode</th>\n",
       "      <th>ProcessingMethod</th>\n",
       "      <th>BorrowerName</th>\n",
       "      <th>BorrowerAddress</th>\n",
       "      <th>BorrowerCity</th>\n",
       "      <th>BorrowerState</th>\n",
       "      <th>BorrowerZip</th>\n",
       "      <th>LoanStatusDate</th>\n",
       "      <th>LoanStatus</th>\n",
       "      <th>Term</th>\n",
       "      <th>SBAGuarantyPercentage</th>\n",
       "      <th>InitialApprovalAmount</th>\n",
       "      <th>CurrentApprovalAmount</th>\n",
       "      <th>UndisbursedAmount</th>\n",
       "      <th>FranchiseName</th>\n",
       "      <th>ServicingLenderLocationID</th>\n",
       "      <th>ServicingLenderName</th>\n",
       "      <th>ServicingLenderAddress</th>\n",
       "      <th>ServicingLenderCity</th>\n",
       "      <th>ServicingLenderState</th>\n",
       "      <th>ServicingLenderZip</th>\n",
       "      <th>RuralUrbanIndicator</th>\n",
       "      <th>HubzoneIndicator</th>\n",
       "      <th>LMIIndicator</th>\n",
       "      <th>BusinessAgeDescription</th>\n",
       "      <th>ProjectCity</th>\n",
       "      <th>ProjectCountyName</th>\n",
       "      <th>ProjectState</th>\n",
       "      <th>ProjectZip</th>\n",
       "      <th>CD</th>\n",
       "      <th>JobsReported</th>\n",
       "      <th>NAICSCode</th>\n",
       "      <th>Race</th>\n",
       "      <th>Ethnicity</th>\n",
       "      <th>UTILITIES_PROCEED</th>\n",
       "      <th>PAYROLL_PROCEED</th>\n",
       "      <th>MORTGAGE_INTEREST_PROCEED</th>\n",
       "      <th>RENT_PROCEED</th>\n",
       "      <th>REFINANCE_EIDL_PROCEED</th>\n",
       "      <th>HEALTH_CARE_PROCEED</th>\n",
       "      <th>DEBT_INTEREST_PROCEED</th>\n",
       "      <th>BusinessType</th>\n",
       "      <th>OriginatingLenderLocationID</th>\n",
       "      <th>OriginatingLender</th>\n",
       "      <th>OriginatingLenderCity</th>\n",
       "      <th>OriginatingLenderState</th>\n",
       "      <th>Gender</th>\n",
       "      <th>Veteran</th>\n",
       "      <th>NonProfit</th>\n",
       "      <th>ForgivenessAmount</th>\n",
       "      <th>ForgivenessDate</th>\n",
       "    </tr>\n",
       "  </thead>\n",
       "  <tbody>\n",
       "    <tr>\n",
       "      <td>0</td>\n",
       "      <td>6499367101</td>\n",
       "      <td>4/14/2020</td>\n",
       "      <td>507</td>\n",
       "      <td>PPP</td>\n",
       "      <td>ENCORE SPACE SOLUTIONS INC.</td>\n",
       "      <td>120 Prairie Lake Rd</td>\n",
       "      <td>EAST DUNDEE</td>\n",
       "      <td>IL</td>\n",
       "      <td>60118-9103</td>\n",
       "      <td>NaN</td>\n",
       "      <td>Exemption 4</td>\n",
       "      <td>24</td>\n",
       "      <td>100</td>\n",
       "      <td>149999.00</td>\n",
       "      <td>149999.00</td>\n",
       "      <td>0.0</td>\n",
       "      <td>NaN</td>\n",
       "      <td>57328</td>\n",
       "      <td>The Huntington National Bank</td>\n",
       "      <td>17 S High St</td>\n",
       "      <td>COLUMBUS</td>\n",
       "      <td>OH</td>\n",
       "      <td>43215-3413</td>\n",
       "      <td>U</td>\n",
       "      <td>Y</td>\n",
       "      <td>Y</td>\n",
       "      <td>Existing or more than 2 years old</td>\n",
       "      <td>EAST DUNDEE</td>\n",
       "      <td>KANE</td>\n",
       "      <td>IL</td>\n",
       "      <td>60118-9103</td>\n",
       "      <td>IL-08</td>\n",
       "      <td>19</td>\n",
       "      <td>238350.0</td>\n",
       "      <td>White</td>\n",
       "      <td>Not Hispanic or Latino</td>\n",
       "      <td>NaN</td>\n",
       "      <td>149999.00</td>\n",
       "      <td>NaN</td>\n",
       "      <td>NaN</td>\n",
       "      <td>NaN</td>\n",
       "      <td>NaN</td>\n",
       "      <td>NaN</td>\n",
       "      <td>Corporation</td>\n",
       "      <td>57328</td>\n",
       "      <td>The Huntington National Bank</td>\n",
       "      <td>COLUMBUS</td>\n",
       "      <td>OH</td>\n",
       "      <td>Male Owned</td>\n",
       "      <td>Non-Veteran</td>\n",
       "      <td>NaN</td>\n",
       "      <td>151203.10</td>\n",
       "      <td>2/19/2021</td>\n",
       "    </tr>\n",
       "    <tr>\n",
       "      <td>1</td>\n",
       "      <td>7079868604</td>\n",
       "      <td>3/23/2021</td>\n",
       "      <td>507</td>\n",
       "      <td>PPS</td>\n",
       "      <td>235 ASHLAND HOLDINGS INC</td>\n",
       "      <td>235 N Ashland Ave</td>\n",
       "      <td>Chicago</td>\n",
       "      <td>IL</td>\n",
       "      <td>60607-1401</td>\n",
       "      <td>NaN</td>\n",
       "      <td>Exemption 4</td>\n",
       "      <td>60</td>\n",
       "      <td>100</td>\n",
       "      <td>149999.00</td>\n",
       "      <td>149999.00</td>\n",
       "      <td>0.0</td>\n",
       "      <td>NaN</td>\n",
       "      <td>58036</td>\n",
       "      <td>Fifth Third Bank</td>\n",
       "      <td>38 Fountain Sq Plz</td>\n",
       "      <td>CINCINNATI</td>\n",
       "      <td>OH</td>\n",
       "      <td>45263</td>\n",
       "      <td>U</td>\n",
       "      <td>Y</td>\n",
       "      <td>N</td>\n",
       "      <td>Existing or more than 2 years old</td>\n",
       "      <td>Chicago</td>\n",
       "      <td>COOK</td>\n",
       "      <td>IL</td>\n",
       "      <td>60607-1401</td>\n",
       "      <td>IL-07</td>\n",
       "      <td>19</td>\n",
       "      <td>722511.0</td>\n",
       "      <td>Unanswered</td>\n",
       "      <td>Unknown/NotStated</td>\n",
       "      <td>1.0</td>\n",
       "      <td>149993.00</td>\n",
       "      <td>NaN</td>\n",
       "      <td>NaN</td>\n",
       "      <td>NaN</td>\n",
       "      <td>NaN</td>\n",
       "      <td>NaN</td>\n",
       "      <td>Corporation</td>\n",
       "      <td>58036</td>\n",
       "      <td>Fifth Third Bank</td>\n",
       "      <td>CINCINNATI</td>\n",
       "      <td>OH</td>\n",
       "      <td>Unanswered</td>\n",
       "      <td>Unanswered</td>\n",
       "      <td>NaN</td>\n",
       "      <td>NaN</td>\n",
       "      <td>NaN</td>\n",
       "    </tr>\n",
       "    <tr>\n",
       "      <td>2</td>\n",
       "      <td>1327948901</td>\n",
       "      <td>4/24/2021</td>\n",
       "      <td>507</td>\n",
       "      <td>PPP</td>\n",
       "      <td>FRIDA KAHLO COMMUNITY ORGANIZATION</td>\n",
       "      <td>5133 S Kedzie Ave</td>\n",
       "      <td>Chicago</td>\n",
       "      <td>IL</td>\n",
       "      <td>60632-3126</td>\n",
       "      <td>NaN</td>\n",
       "      <td>Exemption 4</td>\n",
       "      <td>60</td>\n",
       "      <td>100</td>\n",
       "      <td>149997.00</td>\n",
       "      <td>149997.00</td>\n",
       "      <td>0.0</td>\n",
       "      <td>NaN</td>\n",
       "      <td>58036</td>\n",
       "      <td>Fifth Third Bank</td>\n",
       "      <td>38 Fountain Sq Plz</td>\n",
       "      <td>CINCINNATI</td>\n",
       "      <td>OH</td>\n",
       "      <td>45263</td>\n",
       "      <td>U</td>\n",
       "      <td>Y</td>\n",
       "      <td>Y</td>\n",
       "      <td>Existing or more than 2 years old</td>\n",
       "      <td>Chicago</td>\n",
       "      <td>COOK</td>\n",
       "      <td>IL</td>\n",
       "      <td>60632-3126</td>\n",
       "      <td>IL-04</td>\n",
       "      <td>22</td>\n",
       "      <td>611710.0</td>\n",
       "      <td>Unanswered</td>\n",
       "      <td>Unknown/NotStated</td>\n",
       "      <td>1.0</td>\n",
       "      <td>149991.00</td>\n",
       "      <td>NaN</td>\n",
       "      <td>NaN</td>\n",
       "      <td>NaN</td>\n",
       "      <td>NaN</td>\n",
       "      <td>NaN</td>\n",
       "      <td>Subchapter S Corporation</td>\n",
       "      <td>58036</td>\n",
       "      <td>Fifth Third Bank</td>\n",
       "      <td>CINCINNATI</td>\n",
       "      <td>OH</td>\n",
       "      <td>Unanswered</td>\n",
       "      <td>Unanswered</td>\n",
       "      <td>NaN</td>\n",
       "      <td>NaN</td>\n",
       "      <td>NaN</td>\n",
       "    </tr>\n",
       "    <tr>\n",
       "      <td>3</td>\n",
       "      <td>5688247203</td>\n",
       "      <td>4/27/2020</td>\n",
       "      <td>507</td>\n",
       "      <td>PPP</td>\n",
       "      <td>ONTARIO AND CASS LLC</td>\n",
       "      <td>247 E ONTARIO ST 2ND FLOOR CHICAGO IL 60611</td>\n",
       "      <td>CHICAGO</td>\n",
       "      <td>IL</td>\n",
       "      <td>60611</td>\n",
       "      <td>5/21/2021</td>\n",
       "      <td>Paid in Full</td>\n",
       "      <td>24</td>\n",
       "      <td>100</td>\n",
       "      <td>149995.00</td>\n",
       "      <td>149995.00</td>\n",
       "      <td>0.0</td>\n",
       "      <td>NaN</td>\n",
       "      <td>21059</td>\n",
       "      <td>Republic Bank of Chicago</td>\n",
       "      <td>2221 Camden Court</td>\n",
       "      <td>OAK BROOK</td>\n",
       "      <td>IL</td>\n",
       "      <td>60523-1273</td>\n",
       "      <td>U</td>\n",
       "      <td>N</td>\n",
       "      <td>N</td>\n",
       "      <td>Existing or more than 2 years old</td>\n",
       "      <td>CHICAGO</td>\n",
       "      <td>COOK</td>\n",
       "      <td>IL</td>\n",
       "      <td>60611-0001</td>\n",
       "      <td>IL-07</td>\n",
       "      <td>15</td>\n",
       "      <td>722511.0</td>\n",
       "      <td>Asian</td>\n",
       "      <td>Not Hispanic or Latino</td>\n",
       "      <td>NaN</td>\n",
       "      <td>149995.00</td>\n",
       "      <td>NaN</td>\n",
       "      <td>NaN</td>\n",
       "      <td>NaN</td>\n",
       "      <td>NaN</td>\n",
       "      <td>NaN</td>\n",
       "      <td>Limited Liability Partnership</td>\n",
       "      <td>21059</td>\n",
       "      <td>Republic Bank of Chicago</td>\n",
       "      <td>OAK BROOK</td>\n",
       "      <td>IL</td>\n",
       "      <td>Male Owned</td>\n",
       "      <td>Non-Veteran</td>\n",
       "      <td>NaN</td>\n",
       "      <td>151444.95</td>\n",
       "      <td>4/19/2021</td>\n",
       "    </tr>\n",
       "    <tr>\n",
       "      <td>4</td>\n",
       "      <td>2037218302</td>\n",
       "      <td>1/20/2021</td>\n",
       "      <td>507</td>\n",
       "      <td>PPS</td>\n",
       "      <td>MSI GREEN INC.</td>\n",
       "      <td>1958 W Grand Ave</td>\n",
       "      <td>Chicago</td>\n",
       "      <td>IL</td>\n",
       "      <td>60622-6232</td>\n",
       "      <td>NaN</td>\n",
       "      <td>Exemption 4</td>\n",
       "      <td>60</td>\n",
       "      <td>100</td>\n",
       "      <td>149994.38</td>\n",
       "      <td>149994.38</td>\n",
       "      <td>0.0</td>\n",
       "      <td>NaN</td>\n",
       "      <td>21023</td>\n",
       "      <td>Byline Bank</td>\n",
       "      <td>180 N LaSalle St, Ste 300</td>\n",
       "      <td>CHICAGO</td>\n",
       "      <td>IL</td>\n",
       "      <td>60601-3110</td>\n",
       "      <td>U</td>\n",
       "      <td>N</td>\n",
       "      <td>N</td>\n",
       "      <td>Existing or more than 2 years old</td>\n",
       "      <td>Chicago</td>\n",
       "      <td>COOK</td>\n",
       "      <td>IL</td>\n",
       "      <td>60622-6232</td>\n",
       "      <td>IL-05</td>\n",
       "      <td>12</td>\n",
       "      <td>424410.0</td>\n",
       "      <td>Unanswered</td>\n",
       "      <td>Not Hispanic or Latino</td>\n",
       "      <td>1.0</td>\n",
       "      <td>149989.38</td>\n",
       "      <td>NaN</td>\n",
       "      <td>NaN</td>\n",
       "      <td>NaN</td>\n",
       "      <td>NaN</td>\n",
       "      <td>NaN</td>\n",
       "      <td>Corporation</td>\n",
       "      <td>21023</td>\n",
       "      <td>Byline Bank</td>\n",
       "      <td>CHICAGO</td>\n",
       "      <td>IL</td>\n",
       "      <td>Female Owned</td>\n",
       "      <td>Non-Veteran</td>\n",
       "      <td>NaN</td>\n",
       "      <td>NaN</td>\n",
       "      <td>NaN</td>\n",
       "    </tr>\n",
       "  </tbody>\n",
       "</table>\n",
       "</div>"
      ],
      "text/plain": [
       "   LoanNumber DateApproved  SBAOfficeCode ProcessingMethod  \\\n",
       "0  6499367101    4/14/2020            507              PPP   \n",
       "1  7079868604    3/23/2021            507              PPS   \n",
       "2  1327948901    4/24/2021            507              PPP   \n",
       "3  5688247203    4/27/2020            507              PPP   \n",
       "4  2037218302    1/20/2021            507              PPS   \n",
       "\n",
       "                         BorrowerName  \\\n",
       "0         ENCORE SPACE SOLUTIONS INC.   \n",
       "1            235 ASHLAND HOLDINGS INC   \n",
       "2  FRIDA KAHLO COMMUNITY ORGANIZATION   \n",
       "3                ONTARIO AND CASS LLC   \n",
       "4                      MSI GREEN INC.   \n",
       "\n",
       "                               BorrowerAddress BorrowerCity BorrowerState  \\\n",
       "0                          120 Prairie Lake Rd  EAST DUNDEE            IL   \n",
       "1                            235 N Ashland Ave      Chicago            IL   \n",
       "2                            5133 S Kedzie Ave      Chicago            IL   \n",
       "3  247 E ONTARIO ST 2ND FLOOR CHICAGO IL 60611      CHICAGO            IL   \n",
       "4                             1958 W Grand Ave      Chicago            IL   \n",
       "\n",
       "  BorrowerZip LoanStatusDate    LoanStatus  Term  SBAGuarantyPercentage  \\\n",
       "0  60118-9103            NaN   Exemption 4    24                    100   \n",
       "1  60607-1401            NaN   Exemption 4    60                    100   \n",
       "2  60632-3126            NaN   Exemption 4    60                    100   \n",
       "3       60611      5/21/2021  Paid in Full    24                    100   \n",
       "4  60622-6232            NaN   Exemption 4    60                    100   \n",
       "\n",
       "   InitialApprovalAmount  CurrentApprovalAmount  UndisbursedAmount  \\\n",
       "0              149999.00              149999.00                0.0   \n",
       "1              149999.00              149999.00                0.0   \n",
       "2              149997.00              149997.00                0.0   \n",
       "3              149995.00              149995.00                0.0   \n",
       "4              149994.38              149994.38                0.0   \n",
       "\n",
       "  FranchiseName  ServicingLenderLocationID           ServicingLenderName  \\\n",
       "0           NaN                      57328  The Huntington National Bank   \n",
       "1           NaN                      58036              Fifth Third Bank   \n",
       "2           NaN                      58036              Fifth Third Bank   \n",
       "3           NaN                      21059      Republic Bank of Chicago   \n",
       "4           NaN                      21023                   Byline Bank   \n",
       "\n",
       "      ServicingLenderAddress ServicingLenderCity ServicingLenderState  \\\n",
       "0               17 S High St            COLUMBUS                   OH   \n",
       "1         38 Fountain Sq Plz          CINCINNATI                   OH   \n",
       "2         38 Fountain Sq Plz          CINCINNATI                   OH   \n",
       "3          2221 Camden Court           OAK BROOK                   IL   \n",
       "4  180 N LaSalle St, Ste 300             CHICAGO                   IL   \n",
       "\n",
       "  ServicingLenderZip RuralUrbanIndicator HubzoneIndicator LMIIndicator  \\\n",
       "0         43215-3413                   U                Y            Y   \n",
       "1              45263                   U                Y            N   \n",
       "2              45263                   U                Y            Y   \n",
       "3         60523-1273                   U                N            N   \n",
       "4         60601-3110                   U                N            N   \n",
       "\n",
       "              BusinessAgeDescription  ProjectCity ProjectCountyName  \\\n",
       "0  Existing or more than 2 years old  EAST DUNDEE              KANE   \n",
       "1  Existing or more than 2 years old      Chicago              COOK   \n",
       "2  Existing or more than 2 years old      Chicago              COOK   \n",
       "3  Existing or more than 2 years old      CHICAGO              COOK   \n",
       "4  Existing or more than 2 years old      Chicago              COOK   \n",
       "\n",
       "  ProjectState  ProjectZip     CD  JobsReported  NAICSCode        Race  \\\n",
       "0           IL  60118-9103  IL-08            19   238350.0       White   \n",
       "1           IL  60607-1401  IL-07            19   722511.0  Unanswered   \n",
       "2           IL  60632-3126  IL-04            22   611710.0  Unanswered   \n",
       "3           IL  60611-0001  IL-07            15   722511.0       Asian   \n",
       "4           IL  60622-6232  IL-05            12   424410.0  Unanswered   \n",
       "\n",
       "                Ethnicity  UTILITIES_PROCEED  PAYROLL_PROCEED  \\\n",
       "0  Not Hispanic or Latino                NaN        149999.00   \n",
       "1       Unknown/NotStated                1.0        149993.00   \n",
       "2       Unknown/NotStated                1.0        149991.00   \n",
       "3  Not Hispanic or Latino                NaN        149995.00   \n",
       "4  Not Hispanic or Latino                1.0        149989.38   \n",
       "\n",
       "   MORTGAGE_INTEREST_PROCEED  RENT_PROCEED  REFINANCE_EIDL_PROCEED  \\\n",
       "0                        NaN           NaN                     NaN   \n",
       "1                        NaN           NaN                     NaN   \n",
       "2                        NaN           NaN                     NaN   \n",
       "3                        NaN           NaN                     NaN   \n",
       "4                        NaN           NaN                     NaN   \n",
       "\n",
       "   HEALTH_CARE_PROCEED  DEBT_INTEREST_PROCEED                   BusinessType  \\\n",
       "0                  NaN                    NaN                    Corporation   \n",
       "1                  NaN                    NaN                    Corporation   \n",
       "2                  NaN                    NaN       Subchapter S Corporation   \n",
       "3                  NaN                    NaN  Limited Liability Partnership   \n",
       "4                  NaN                    NaN                    Corporation   \n",
       "\n",
       "   OriginatingLenderLocationID             OriginatingLender  \\\n",
       "0                        57328  The Huntington National Bank   \n",
       "1                        58036              Fifth Third Bank   \n",
       "2                        58036              Fifth Third Bank   \n",
       "3                        21059      Republic Bank of Chicago   \n",
       "4                        21023                   Byline Bank   \n",
       "\n",
       "  OriginatingLenderCity OriginatingLenderState        Gender      Veteran  \\\n",
       "0              COLUMBUS                     OH    Male Owned  Non-Veteran   \n",
       "1            CINCINNATI                     OH    Unanswered   Unanswered   \n",
       "2            CINCINNATI                     OH    Unanswered   Unanswered   \n",
       "3             OAK BROOK                     IL    Male Owned  Non-Veteran   \n",
       "4               CHICAGO                     IL  Female Owned  Non-Veteran   \n",
       "\n",
       "  NonProfit  ForgivenessAmount ForgivenessDate  \n",
       "0       NaN          151203.10       2/19/2021  \n",
       "1       NaN                NaN             NaN  \n",
       "2       NaN                NaN             NaN  \n",
       "3       NaN          151444.95       4/19/2021  \n",
       "4       NaN                NaN             NaN  "
      ]
     },
     "execution_count": 17,
     "metadata": {},
     "output_type": "execute_result"
    }
   ],
   "source": [
    "loans.head()"
   ]
  },
  {
   "cell_type": "markdown",
   "metadata": {},
   "source": [
    "### Web Scraping Average Salaries"
   ]
  },
  {
   "cell_type": "markdown",
   "metadata": {},
   "source": [
    "The loan amount request was calculated by determing the 10 week salary amount for the business. These values can be verified by comparing the salaries for each loan's profession to the published mean salaries. This data is published by the US Bureau of Labor Statistics and can be found [here](https://www.bls.gov/oes/current/oes_nat.htm). "
   ]
  },
  {
   "cell_type": "code",
   "execution_count": 18,
   "metadata": {},
   "outputs": [],
   "source": [
    "headers = {\"User-Agent\": \"Mozilla/5.0 (Windows NT 10.0; Win64; x64) AppleWebKit/537.36 (KHTML, like Gecko) Chrome/70.0.3538.77 Safari/537.36\"}\n",
    "try:\n",
    "    res = requests.get(\"https://www.bls.gov/oes/current/oes_nat.htm\", headers=headers)\n",
    "except HTTPError as e:\n",
    "    print(e)"
   ]
  },
  {
   "cell_type": "code",
   "execution_count": 19,
   "metadata": {},
   "outputs": [
    {
     "data": {
      "text/html": [
       "<div>\n",
       "<style scoped>\n",
       "    .dataframe tbody tr th:only-of-type {\n",
       "        vertical-align: middle;\n",
       "    }\n",
       "\n",
       "    .dataframe tbody tr th {\n",
       "        vertical-align: top;\n",
       "    }\n",
       "\n",
       "    .dataframe thead th {\n",
       "        text-align: right;\n",
       "    }\n",
       "</style>\n",
       "<table border=\"1\" class=\"dataframe\">\n",
       "  <thead>\n",
       "    <tr style=\"text-align: right;\">\n",
       "      <th></th>\n",
       "      <th>Occupation code</th>\n",
       "      <th>Occupation title (click on the occupation title to view its profile)</th>\n",
       "      <th>Level</th>\n",
       "      <th>Employment</th>\n",
       "      <th>Employment RSE</th>\n",
       "      <th>Employment per 1,000 jobs</th>\n",
       "      <th>Median hourly wage</th>\n",
       "      <th>Mean hourly wage</th>\n",
       "      <th>Annual mean wage</th>\n",
       "      <th>Mean wage RSE</th>\n",
       "    </tr>\n",
       "  </thead>\n",
       "  <tbody>\n",
       "    <tr>\n",
       "      <td>1</td>\n",
       "      <td>00-0000</td>\n",
       "      <td>All Occupations</td>\n",
       "      <td>total</td>\n",
       "      <td>139099570</td>\n",
       "      <td>0.1%</td>\n",
       "      <td>1000.000</td>\n",
       "      <td>$20.17</td>\n",
       "      <td>$27.07</td>\n",
       "      <td>$56,310</td>\n",
       "      <td>0.1%</td>\n",
       "    </tr>\n",
       "    <tr>\n",
       "      <td>2</td>\n",
       "      <td>11-0000</td>\n",
       "      <td>Management Occupations</td>\n",
       "      <td>major</td>\n",
       "      <td>7947300</td>\n",
       "      <td>0.2%</td>\n",
       "      <td>57.134</td>\n",
       "      <td>$52.77</td>\n",
       "      <td>$60.81</td>\n",
       "      <td>$126,480</td>\n",
       "      <td>0.2%</td>\n",
       "    </tr>\n",
       "    <tr>\n",
       "      <td>3</td>\n",
       "      <td>11-1000</td>\n",
       "      <td>Top Executives</td>\n",
       "      <td>minor</td>\n",
       "      <td>2601070</td>\n",
       "      <td>0.4%</td>\n",
       "      <td>18.699</td>\n",
       "      <td>$51.05</td>\n",
       "      <td>$62.46</td>\n",
       "      <td>$129,920</td>\n",
       "      <td>0.2%</td>\n",
       "    </tr>\n",
       "    <tr>\n",
       "      <td>4</td>\n",
       "      <td>11-1011</td>\n",
       "      <td>Chief Executives</td>\n",
       "      <td>detail</td>\n",
       "      <td>202360</td>\n",
       "      <td>1.0%</td>\n",
       "      <td>1.455</td>\n",
       "      <td>$89.40</td>\n",
       "      <td>$95.12</td>\n",
       "      <td>$197,840</td>\n",
       "      <td>0.5%</td>\n",
       "    </tr>\n",
       "    <tr>\n",
       "      <td>5</td>\n",
       "      <td>11-1021</td>\n",
       "      <td>General and Operations Managers</td>\n",
       "      <td>detail</td>\n",
       "      <td>2347420</td>\n",
       "      <td>0.4%</td>\n",
       "      <td>16.876</td>\n",
       "      <td>$49.83</td>\n",
       "      <td>$60.45</td>\n",
       "      <td>$125,740</td>\n",
       "      <td>0.2%</td>\n",
       "    </tr>\n",
       "  </tbody>\n",
       "</table>\n",
       "</div>"
      ],
      "text/plain": [
       "  Occupation code  \\\n",
       "1         00-0000   \n",
       "2         11-0000   \n",
       "3         11-1000   \n",
       "4         11-1011   \n",
       "5         11-1021   \n",
       "\n",
       "  Occupation title (click on the occupation title to view its profile)  \\\n",
       "1                                    All Occupations                     \n",
       "2                             Management Occupations                     \n",
       "3                                     Top Executives                     \n",
       "4                                   Chief Executives                     \n",
       "5                    General and Operations Managers                     \n",
       "\n",
       "    Level Employment Employment RSE Employment per 1,000 jobs  \\\n",
       "1   total  139099570           0.1%                  1000.000   \n",
       "2   major    7947300           0.2%                    57.134   \n",
       "3   minor    2601070           0.4%                    18.699   \n",
       "4  detail     202360           1.0%                     1.455   \n",
       "5  detail    2347420           0.4%                    16.876   \n",
       "\n",
       "  Median hourly wage Mean hourly wage Annual mean wage Mean wage RSE  \n",
       "1             $20.17           $27.07          $56,310          0.1%  \n",
       "2             $52.77           $60.81         $126,480          0.2%  \n",
       "3             $51.05           $62.46         $129,920          0.2%  \n",
       "4             $89.40           $95.12         $197,840          0.5%  \n",
       "5             $49.83           $60.45         $125,740          0.2%  "
      ]
     },
     "execution_count": 19,
     "metadata": {},
     "output_type": "execute_result"
    }
   ],
   "source": [
    "bs = BeautifulSoup(res.text, 'html.parser')\n",
    "tab = bs.findAll(\"table\")\n",
    "df = pd.read_html(str(tab[1]))\n",
    "merged = df[0]\n",
    "merged = merged[1:] # Remove the first row, since it is only NaN\n",
    "merged.head()"
   ]
  },
  {
   "cell_type": "markdown",
   "metadata": {},
   "source": [
    "### Getting NAICS Codes"
   ]
  },
  {
   "cell_type": "markdown",
   "metadata": {},
   "source": [
    "In order to compare occupations in the PPP data to occupations in the salary data, a mapping must be done between the two datasets. This can be done by using the NAICSCodes column in the PPP dataset and the Occupation Title column in the salaries dataset. To get a mapping for them, I took an excel mapping found on the Census Bureau website [here](https://www.census.gov/naics/). These will later be cleaned and translated for use."
   ]
  },
  {
   "cell_type": "code",
   "execution_count": 20,
   "metadata": {},
   "outputs": [],
   "source": [
    "code = pd.read_excel('6-digit_2017_Codes.xlsx')"
   ]
  },
  {
   "cell_type": "code",
   "execution_count": 21,
   "metadata": {},
   "outputs": [
    {
     "data": {
      "text/html": [
       "<div>\n",
       "<style scoped>\n",
       "    .dataframe tbody tr th:only-of-type {\n",
       "        vertical-align: middle;\n",
       "    }\n",
       "\n",
       "    .dataframe tbody tr th {\n",
       "        vertical-align: top;\n",
       "    }\n",
       "\n",
       "    .dataframe thead th {\n",
       "        text-align: right;\n",
       "    }\n",
       "</style>\n",
       "<table border=\"1\" class=\"dataframe\">\n",
       "  <thead>\n",
       "    <tr style=\"text-align: right;\">\n",
       "      <th></th>\n",
       "      <th>2017 NAICS Code</th>\n",
       "      <th>2017 NAICS Title</th>\n",
       "      <th>Unnamed: 2</th>\n",
       "    </tr>\n",
       "  </thead>\n",
       "  <tbody>\n",
       "    <tr>\n",
       "      <td>0</td>\n",
       "      <td>NaN</td>\n",
       "      <td>NaN</td>\n",
       "      <td>NaN</td>\n",
       "    </tr>\n",
       "    <tr>\n",
       "      <td>1</td>\n",
       "      <td>111110.0</td>\n",
       "      <td>Soybean Farming</td>\n",
       "      <td>NaN</td>\n",
       "    </tr>\n",
       "    <tr>\n",
       "      <td>2</td>\n",
       "      <td>111120.0</td>\n",
       "      <td>Oilseed (except Soybean) Farming</td>\n",
       "      <td>NaN</td>\n",
       "    </tr>\n",
       "    <tr>\n",
       "      <td>3</td>\n",
       "      <td>111130.0</td>\n",
       "      <td>Dry Pea and Bean Farming</td>\n",
       "      <td>NaN</td>\n",
       "    </tr>\n",
       "    <tr>\n",
       "      <td>4</td>\n",
       "      <td>111140.0</td>\n",
       "      <td>Wheat Farming</td>\n",
       "      <td>NaN</td>\n",
       "    </tr>\n",
       "  </tbody>\n",
       "</table>\n",
       "</div>"
      ],
      "text/plain": [
       "   2017 NAICS Code                   2017 NAICS Title Unnamed: 2\n",
       "0              NaN                                NaN        NaN\n",
       "1         111110.0                    Soybean Farming        NaN\n",
       "2         111120.0  Oilseed (except Soybean) Farming         NaN\n",
       "3         111130.0          Dry Pea and Bean Farming         NaN\n",
       "4         111140.0                      Wheat Farming        NaN"
      ]
     },
     "execution_count": 21,
     "metadata": {},
     "output_type": "execute_result"
    }
   ],
   "source": [
    "code.head()"
   ]
  },
  {
   "cell_type": "markdown",
   "metadata": {},
   "source": [
    "## Data Processing"
   ]
  },
  {
   "cell_type": "markdown",
   "metadata": {},
   "source": [
    "Now, let's begin our data processing by cleaning up the datasets. Each dataset will need to be separately modified before it can be pieced together into a complete dataset. There are a few general things that will be done during data cleaning and data processing. Each dataset will have extraneous (non-relavent) columns deleted. This will make processing the data happen much more quickly for later analysis. We'll also transform any columns with dates into datetime columns, casting data (when appropriate), and split strings as needed."
   ]
  },
  {
   "cell_type": "markdown",
   "metadata": {},
   "source": [
    "### Cleaning the PPP Dataset"
   ]
  },
  {
   "cell_type": "markdown",
   "metadata": {},
   "source": [
    "To clean the PPP dataset, we want to drop columns we won't need for analysis. The primary columns we will be looking at are: BorrowerZip, InitialLoanAmount, NAICSCode"
   ]
  },
  {
   "cell_type": "markdown",
   "metadata": {},
   "source": [
    "#### Dropping unnecessary columns"
   ]
  },
  {
   "cell_type": "code",
   "execution_count": 22,
   "metadata": {},
   "outputs": [],
   "source": [
    "loans.drop(columns=['LoanNumber', 'SBAOfficeCode', 'ProcessingMethod', 'BorrowerName', 'BorrowerAddress', 'BorrowerCity', 'BorrowerState', 'Term', 'SBAGuarantyPercentage', 'FranchiseName', 'ServicingLenderLocationID', 'ServicingLenderAddress', 'ServicingLenderCity', 'ServicingLenderState', 'ServicingLenderZip', 'ProjectCity', 'ProjectCountyName', 'ProjectState', 'ProjectZip', 'CD', 'UTILITIES_PROCEED', 'PAYROLL_PROCEED', 'MORTGAGE_INTEREST_PROCEED', 'RENT_PROCEED', 'REFINANCE_EIDL_PROCEED', 'HEALTH_CARE_PROCEED', 'DEBT_INTEREST_PROCEED', 'OriginatingLenderLocationID', 'OriginatingLenderCity', 'OriginatingLenderState'], inplace=True)"
   ]
  },
  {
   "cell_type": "markdown",
   "metadata": {},
   "source": [
    "#### Adding datetime Columns"
   ]
  },
  {
   "cell_type": "code",
   "execution_count": 23,
   "metadata": {},
   "outputs": [],
   "source": [
    "dates = pd.to_datetime(loans[\"DateApproved\"])\n",
    "loans = loans.drop(columns=[\"DateApproved\"])\n",
    "loans[\"DateApproved\"] = dates\n",
    "\n",
    "dates = pd.to_datetime(loans[\"ForgivenessDate\"])\n",
    "loans = loans.drop(columns=[\"ForgivenessDate\"])\n",
    "loans[\"ForgivenessDate\"] = dates\n",
    "\n",
    "dates = pd.to_datetime(loans[\"LoanStatusDate\"])\n",
    "loans = loans.drop(columns=[\"LoanStatusDate\"])\n",
    "loans[\"LoanStatusDate\"] = dates"
   ]
  },
  {
   "cell_type": "markdown",
   "metadata": {},
   "source": [
    "#### Limiting results to individuals applying for the loan"
   ]
  },
  {
   "cell_type": "markdown",
   "metadata": {},
   "source": [
    "For the purpose of our analysis, we will only be looking at loans where the 'JobsReported' was 1. This is to specifically look out for individuals who may be taking advantage of the PPP loan or who may have been taken advantage of. It also will provide us with a direct metric for measuring proposed salaries against the reported average salaries."
   ]
  },
  {
   "cell_type": "code",
   "execution_count": 24,
   "metadata": {},
   "outputs": [],
   "source": [
    "single = loans[loans['JobsReported'] == 1]"
   ]
  },
  {
   "cell_type": "markdown",
   "metadata": {},
   "source": [
    "#### Cleaning zip codes"
   ]
  },
  {
   "cell_type": "markdown",
   "metadata": {},
   "source": [
    "Later on in our analysis, we will be mapping zip codes. The package we will be using to complete this analysis assumes each zip code is five digits. We transform the data here to meet that requirement."
   ]
  },
  {
   "cell_type": "code",
   "execution_count": 25,
   "metadata": {},
   "outputs": [],
   "source": [
    "single['Zipcode'] = single['BorrowerZip'].str[:5]\n",
    "single.drop(columns=['BorrowerZip'], inplace=True)"
   ]
  },
  {
   "cell_type": "markdown",
   "metadata": {},
   "source": [
    "### Cleaning the Salary Dataset"
   ]
  },
  {
   "cell_type": "markdown",
   "metadata": {},
   "source": [
    "The only relevant information for this dataset is the mean salary for each occupation. Here we will drop the unnecessary columns, create our salary column by removing unnecessary strings, and rename our columns to better reflect the data each column contains."
   ]
  },
  {
   "cell_type": "markdown",
   "metadata": {},
   "source": [
    "#### Getting the salary information"
   ]
  },
  {
   "cell_type": "code",
   "execution_count": 26,
   "metadata": {},
   "outputs": [],
   "source": [
    "merged[\"Annual mean wage\"] = merged[\"Annual mean wage\"].replace('[\\$,]', '', regex=True)\n",
    "merged[\"Annual mean wage\"] = merged[\"Annual mean wage\"].replace('(4)', np.nan)\n",
    "merged[\"Annual mean wage\"] = merged[\"Annual mean wage\"].astype(float)"
   ]
  },
  {
   "cell_type": "markdown",
   "metadata": {},
   "source": [
    "#### Dropping unnecessary columns"
   ]
  },
  {
   "cell_type": "code",
   "execution_count": 27,
   "metadata": {},
   "outputs": [],
   "source": [
    "merged.drop(columns=['Level','Employment', 'Employment RSE', 'Employment per 1,000 jobs', 'Median hourly wage', 'Mean hourly wage', 'Mean wage RSE'], inplace=True)"
   ]
  },
  {
   "cell_type": "markdown",
   "metadata": {},
   "source": [
    "#### Renaming columns"
   ]
  },
  {
   "cell_type": "code",
   "execution_count": 28,
   "metadata": {},
   "outputs": [],
   "source": [
    "avg_sals = merged.rename(columns={\"Occupation title (click on the occupation title to view its profile)\": \"Title\", \"Annual mean wage\": \"Salary\"})"
   ]
  },
  {
   "cell_type": "markdown",
   "metadata": {},
   "source": [
    "### Cleaning the NAICS dataset"
   ]
  },
  {
   "cell_type": "markdown",
   "metadata": {},
   "source": [
    "The NAICS dataset contains the mapping between occupations and NAICS codes. There are some formatting issues that need to be adjusted by shifting the data and the columns need to be renamed to better match the columns from the other datasets. This will make merging the datasets more straightforward once we merge them in a little bit."
   ]
  },
  {
   "cell_type": "code",
   "execution_count": 29,
   "metadata": {},
   "outputs": [],
   "source": [
    "code = code[1:] # Remove the first row, since it is only NaN\n",
    "code = code.iloc[: , :-1] # drop last column\n",
    "code['2017 NAICS Code'] = code['2017 NAICS Code'].astype(int)\n",
    "code = code.rename(columns={\"2017 NAICS Code\": \"NAICSCode\", \"2017 NAICS Title\":\"Title\"})"
   ]
  },
  {
   "cell_type": "markdown",
   "metadata": {},
   "source": [
    "### Merging the Datasets"
   ]
  },
  {
   "cell_type": "markdown",
   "metadata": {},
   "source": [
    "Now that our datasets are clean, let's merge them together. Merging the single loans dataset and the NAICS code dataset provides us with a reference to the salary dataset that we will utilize later."
   ]
  },
  {
   "cell_type": "code",
   "execution_count": 30,
   "metadata": {},
   "outputs": [],
   "source": [
    "vals = pd.merge(single, code, on=\"NAICSCode\")"
   ]
  },
  {
   "cell_type": "code",
   "execution_count": 31,
   "metadata": {},
   "outputs": [
    {
     "data": {
      "text/html": [
       "<div>\n",
       "<style scoped>\n",
       "    .dataframe tbody tr th:only-of-type {\n",
       "        vertical-align: middle;\n",
       "    }\n",
       "\n",
       "    .dataframe tbody tr th {\n",
       "        vertical-align: top;\n",
       "    }\n",
       "\n",
       "    .dataframe thead th {\n",
       "        text-align: right;\n",
       "    }\n",
       "</style>\n",
       "<table border=\"1\" class=\"dataframe\">\n",
       "  <thead>\n",
       "    <tr style=\"text-align: right;\">\n",
       "      <th></th>\n",
       "      <th>LoanStatus</th>\n",
       "      <th>InitialApprovalAmount</th>\n",
       "      <th>CurrentApprovalAmount</th>\n",
       "      <th>UndisbursedAmount</th>\n",
       "      <th>ServicingLenderName</th>\n",
       "      <th>RuralUrbanIndicator</th>\n",
       "      <th>HubzoneIndicator</th>\n",
       "      <th>LMIIndicator</th>\n",
       "      <th>BusinessAgeDescription</th>\n",
       "      <th>JobsReported</th>\n",
       "      <th>NAICSCode</th>\n",
       "      <th>Race</th>\n",
       "      <th>Ethnicity</th>\n",
       "      <th>BusinessType</th>\n",
       "      <th>OriginatingLender</th>\n",
       "      <th>Gender</th>\n",
       "      <th>Veteran</th>\n",
       "      <th>NonProfit</th>\n",
       "      <th>ForgivenessAmount</th>\n",
       "      <th>DateApproved</th>\n",
       "      <th>ForgivenessDate</th>\n",
       "      <th>LoanStatusDate</th>\n",
       "      <th>Zipcode</th>\n",
       "      <th>Title</th>\n",
       "    </tr>\n",
       "  </thead>\n",
       "  <tbody>\n",
       "    <tr>\n",
       "      <td>0</td>\n",
       "      <td>Paid in Full</td>\n",
       "      <td>149362.0</td>\n",
       "      <td>149362.00</td>\n",
       "      <td>0.0</td>\n",
       "      <td>T Bank, National Association</td>\n",
       "      <td>U</td>\n",
       "      <td>N</td>\n",
       "      <td>N</td>\n",
       "      <td>Existing or more than 2 years old</td>\n",
       "      <td>1</td>\n",
       "      <td>621210.0</td>\n",
       "      <td>Unanswered</td>\n",
       "      <td>Unknown/NotStated</td>\n",
       "      <td>Sole Proprietorship</td>\n",
       "      <td>T Bank, National Association</td>\n",
       "      <td>Male Owned</td>\n",
       "      <td>Unanswered</td>\n",
       "      <td>NaN</td>\n",
       "      <td>150491.42</td>\n",
       "      <td>2020-05-08</td>\n",
       "      <td>2021-02-19</td>\n",
       "      <td>2021-03-13</td>\n",
       "      <td>61114</td>\n",
       "      <td>Offices of Dentists</td>\n",
       "    </tr>\n",
       "    <tr>\n",
       "      <td>1</td>\n",
       "      <td>Exemption 4</td>\n",
       "      <td>147322.5</td>\n",
       "      <td>147322.50</td>\n",
       "      <td>0.0</td>\n",
       "      <td>First Midwest Bank</td>\n",
       "      <td>U</td>\n",
       "      <td>N</td>\n",
       "      <td>N</td>\n",
       "      <td>Existing or more than 2 years old</td>\n",
       "      <td>1</td>\n",
       "      <td>621210.0</td>\n",
       "      <td>Unanswered</td>\n",
       "      <td>Unknown/NotStated</td>\n",
       "      <td>Limited  Liability Company(LLC)</td>\n",
       "      <td>First Midwest Bank</td>\n",
       "      <td>Unanswered</td>\n",
       "      <td>Unanswered</td>\n",
       "      <td>NaN</td>\n",
       "      <td>148697.51</td>\n",
       "      <td>2020-04-10</td>\n",
       "      <td>2021-03-26</td>\n",
       "      <td>NaT</td>\n",
       "      <td>60515</td>\n",
       "      <td>Offices of Dentists</td>\n",
       "    </tr>\n",
       "    <tr>\n",
       "      <td>2</td>\n",
       "      <td>Paid in Full</td>\n",
       "      <td>145677.5</td>\n",
       "      <td>145677.50</td>\n",
       "      <td>0.0</td>\n",
       "      <td>First Midwest Bank</td>\n",
       "      <td>U</td>\n",
       "      <td>N</td>\n",
       "      <td>N</td>\n",
       "      <td>Existing or more than 2 years old</td>\n",
       "      <td>1</td>\n",
       "      <td>621210.0</td>\n",
       "      <td>White</td>\n",
       "      <td>Not Hispanic or Latino</td>\n",
       "      <td>Subchapter S Corporation</td>\n",
       "      <td>First Midwest Bank</td>\n",
       "      <td>Female Owned</td>\n",
       "      <td>Veteran</td>\n",
       "      <td>NaN</td>\n",
       "      <td>146838.87</td>\n",
       "      <td>2020-04-11</td>\n",
       "      <td>2021-02-02</td>\n",
       "      <td>2021-04-23</td>\n",
       "      <td>60056</td>\n",
       "      <td>Offices of Dentists</td>\n",
       "    </tr>\n",
       "    <tr>\n",
       "      <td>3</td>\n",
       "      <td>Paid in Full</td>\n",
       "      <td>141875.0</td>\n",
       "      <td>130541.27</td>\n",
       "      <td>0.0</td>\n",
       "      <td>First American Bank</td>\n",
       "      <td>U</td>\n",
       "      <td>N</td>\n",
       "      <td>N</td>\n",
       "      <td>Existing or more than 2 years old</td>\n",
       "      <td>1</td>\n",
       "      <td>621210.0</td>\n",
       "      <td>Unanswered</td>\n",
       "      <td>Unknown/NotStated</td>\n",
       "      <td>Limited  Liability Company(LLC)</td>\n",
       "      <td>First American Bank</td>\n",
       "      <td>Male Owned</td>\n",
       "      <td>Non-Veteran</td>\n",
       "      <td>NaN</td>\n",
       "      <td>131766.91</td>\n",
       "      <td>2020-04-28</td>\n",
       "      <td>2021-04-15</td>\n",
       "      <td>2021-05-21</td>\n",
       "      <td>60045</td>\n",
       "      <td>Offices of Dentists</td>\n",
       "    </tr>\n",
       "    <tr>\n",
       "      <td>4</td>\n",
       "      <td>Paid in Full</td>\n",
       "      <td>109375.0</td>\n",
       "      <td>109375.00</td>\n",
       "      <td>0.0</td>\n",
       "      <td>First Midwest Bank</td>\n",
       "      <td>U</td>\n",
       "      <td>N</td>\n",
       "      <td>N</td>\n",
       "      <td>New Business or 2 years or less</td>\n",
       "      <td>1</td>\n",
       "      <td>621210.0</td>\n",
       "      <td>Unanswered</td>\n",
       "      <td>Unknown/NotStated</td>\n",
       "      <td>Limited  Liability Company(LLC)</td>\n",
       "      <td>First Midwest Bank</td>\n",
       "      <td>Unanswered</td>\n",
       "      <td>Non-Veteran</td>\n",
       "      <td>NaN</td>\n",
       "      <td>110611.55</td>\n",
       "      <td>2020-04-11</td>\n",
       "      <td>2021-06-03</td>\n",
       "      <td>2021-06-24</td>\n",
       "      <td>60540</td>\n",
       "      <td>Offices of Dentists</td>\n",
       "    </tr>\n",
       "  </tbody>\n",
       "</table>\n",
       "</div>"
      ],
      "text/plain": [
       "     LoanStatus  InitialApprovalAmount  CurrentApprovalAmount  \\\n",
       "0  Paid in Full               149362.0              149362.00   \n",
       "1   Exemption 4               147322.5              147322.50   \n",
       "2  Paid in Full               145677.5              145677.50   \n",
       "3  Paid in Full               141875.0              130541.27   \n",
       "4  Paid in Full               109375.0              109375.00   \n",
       "\n",
       "   UndisbursedAmount           ServicingLenderName RuralUrbanIndicator  \\\n",
       "0                0.0  T Bank, National Association                   U   \n",
       "1                0.0            First Midwest Bank                   U   \n",
       "2                0.0            First Midwest Bank                   U   \n",
       "3                0.0           First American Bank                   U   \n",
       "4                0.0            First Midwest Bank                   U   \n",
       "\n",
       "  HubzoneIndicator LMIIndicator             BusinessAgeDescription  \\\n",
       "0                N            N  Existing or more than 2 years old   \n",
       "1                N            N  Existing or more than 2 years old   \n",
       "2                N            N  Existing or more than 2 years old   \n",
       "3                N            N  Existing or more than 2 years old   \n",
       "4                N            N    New Business or 2 years or less   \n",
       "\n",
       "   JobsReported  NAICSCode        Race               Ethnicity  \\\n",
       "0             1   621210.0  Unanswered       Unknown/NotStated   \n",
       "1             1   621210.0  Unanswered       Unknown/NotStated   \n",
       "2             1   621210.0       White  Not Hispanic or Latino   \n",
       "3             1   621210.0  Unanswered       Unknown/NotStated   \n",
       "4             1   621210.0  Unanswered       Unknown/NotStated   \n",
       "\n",
       "                      BusinessType             OriginatingLender  \\\n",
       "0              Sole Proprietorship  T Bank, National Association   \n",
       "1  Limited  Liability Company(LLC)            First Midwest Bank   \n",
       "2         Subchapter S Corporation            First Midwest Bank   \n",
       "3  Limited  Liability Company(LLC)           First American Bank   \n",
       "4  Limited  Liability Company(LLC)            First Midwest Bank   \n",
       "\n",
       "         Gender      Veteran NonProfit  ForgivenessAmount DateApproved  \\\n",
       "0    Male Owned   Unanswered       NaN          150491.42   2020-05-08   \n",
       "1    Unanswered   Unanswered       NaN          148697.51   2020-04-10   \n",
       "2  Female Owned      Veteran       NaN          146838.87   2020-04-11   \n",
       "3    Male Owned  Non-Veteran       NaN          131766.91   2020-04-28   \n",
       "4    Unanswered  Non-Veteran       NaN          110611.55   2020-04-11   \n",
       "\n",
       "  ForgivenessDate LoanStatusDate Zipcode                 Title  \n",
       "0      2021-02-19     2021-03-13   61114  Offices of Dentists   \n",
       "1      2021-03-26            NaT   60515  Offices of Dentists   \n",
       "2      2021-02-02     2021-04-23   60056  Offices of Dentists   \n",
       "3      2021-04-15     2021-05-21   60045  Offices of Dentists   \n",
       "4      2021-06-03     2021-06-24   60540  Offices of Dentists   "
      ]
     },
     "execution_count": 31,
     "metadata": {},
     "output_type": "execute_result"
    }
   ],
   "source": [
    "vals.head()"
   ]
  },
  {
   "cell_type": "markdown",
   "metadata": {},
   "source": [
    "## Exploratory Data Analysis"
   ]
  },
  {
   "cell_type": "markdown",
   "metadata": {},
   "source": [
    "Now that we have our clean dataset, it's time to move on to the next part of the data science pipeline: Exploratory Data Analysis. Using our dataset, we'll try and use some data visualization techniques to discover trends in the data. Some questions we'd like to answer are:\n",
    "- Are there still many loans that are undisbursed?\n",
    "- Can we find any factors that may be related to undisbursed loans?\n",
    "- How to the proposed salaries (listed in the loan application) match up with the average salary for each job? Are there any jobs where that discrepancy is large?\n",
    "\n",
    "Once we answer some of these initial questions, we can try and pull out specific factors which may have an effect on the things we are checking. Later on, we will test whether these factors have an actual effect on the data (or whether they are simply a conincidence)."
   ]
  },
  {
   "cell_type": "markdown",
   "metadata": {},
   "source": [
    "### Counting undisbursed loans"
   ]
  },
  {
   "cell_type": "code",
   "execution_count": 32,
   "metadata": {},
   "outputs": [
    {
     "data": {
      "text/plain": [
       "LoanStatus                41968\n",
       "InitialApprovalAmount     41968\n",
       "CurrentApprovalAmount     41968\n",
       "UndisbursedAmount         41968\n",
       "ServicingLenderName       41968\n",
       "RuralUrbanIndicator       41968\n",
       "HubzoneIndicator          41968\n",
       "LMIIndicator              41968\n",
       "BusinessAgeDescription    41968\n",
       "JobsReported              41968\n",
       "NAICSCode                 41968\n",
       "Race                      41968\n",
       "Ethnicity                 41968\n",
       "BusinessType              41968\n",
       "OriginatingLender         41968\n",
       "Gender                    41968\n",
       "Veteran                   41968\n",
       "NonProfit                    18\n",
       "ForgivenessAmount            13\n",
       "DateApproved              41968\n",
       "ForgivenessDate              13\n",
       "LoanStatusDate            41933\n",
       "Zipcode                   41968\n",
       "Title                     41968\n",
       "dtype: int64"
      ]
     },
     "execution_count": 32,
     "metadata": {},
     "output_type": "execute_result"
    }
   ],
   "source": [
    "vals[vals['UndisbursedAmount'] > 0].count()"
   ]
  },
  {
   "cell_type": "markdown",
   "metadata": {},
   "source": [
    "From here we can see that nearly 42,000 of the loans are still undisbursed! Let's try and take a closer look at what's going on here."
   ]
  },
  {
   "cell_type": "markdown",
   "metadata": {},
   "source": [
    "### Exploring undisbursed loans"
   ]
  },
  {
   "cell_type": "markdown",
   "metadata": {},
   "source": [
    "First, let's look at how many loans are not yet disbursed. We'll filter our data to only reflect loans which have not been disbursed. Remember that undisbursed loans mean that the government has paid the lender the loan amount-- the lender just hasn't given that money back to the borrower. Since the money is currently with the lender, let's first see if there is anything we can learn about the lenders themselves."
   ]
  },
  {
   "cell_type": "code",
   "execution_count": 36,
   "metadata": {},
   "outputs": [],
   "source": [
    "# Add a new column, percent undisbursed, which is a fraction of how much of a loan is still undisbursed\n",
    "vals['PctUndisbursed'] = vals['UndisbursedAmount'] / vals['InitialApprovalAmount']"
   ]
  },
  {
   "cell_type": "code",
   "execution_count": 34,
   "metadata": {},
   "outputs": [],
   "source": [
    "# Only keep rows where there is still undisbursed funds\n",
    "vals_undisbursed = vals.drop(vals[vals['UndisbursedAmount'] == 0].index)"
   ]
  },
  {
   "cell_type": "markdown",
   "metadata": {},
   "source": [
    "#### Looking at originating lenders"
   ]
  },
  {
   "cell_type": "code",
   "execution_count": 39,
   "metadata": {},
   "outputs": [
    {
     "data": {
      "text/plain": [
       "Text(0.5, 1.0, 'Undisbursed Loans: Originating Lender')"
      ]
     },
     "execution_count": 39,
     "metadata": {},
     "output_type": "execute_result"
    },
    {
     "data": {
      "image/png": "[encoded data removed]",
      "text/plain": [
       "<Figure size 1080x576 with 1 Axes>"
      ]
     },
     "metadata": {},
     "output_type": "display_data"
    }
   ],
   "source": [
    "sns.set(rc = {'figure.figsize':(15,8)})\n",
    "sns.countplot(x=\"OriginatingLender\",data=vals_undisbursed).set_title(\"Undisbursed Loans: Originating Lender\")"
   ]
  },
  {
   "cell_type": "markdown",
   "metadata": {},
   "source": [
    "Looking at this count, there appears to be quite a few outliers! Let's see if we can get a closer look at which lenders these are. We'll do this by filtering our dataset to only show us lenders who have > 1000 undisbursed loans."
   ]
  },
  {
   "cell_type": "code",
   "execution_count": 37,
   "metadata": {},
   "outputs": [],
   "source": [
    "lender_undispersed = vals_undisbursed[vals_undisbursed.groupby('OriginatingLender').OriginatingLender.transform('count')>1000].copy() "
   ]
  },
  {
   "cell_type": "code",
   "execution_count": 40,
   "metadata": {},
   "outputs": [
    {
     "data": {
      "text/plain": [
       "Text(0.5, 1.0, 'Undisbursed Loans: Originating Lender, top offenders')"
      ]
     },
     "execution_count": 40,
     "metadata": {},
     "output_type": "execute_result"
    },
    {
     "data": {
      "image/png": "[encoded data removed]",
      "text/plain": [
       "<Figure size 1080x576 with 1 Axes>"
      ]
     },
     "metadata": {},
     "output_type": "display_data"
    }
   ],
   "source": [
    "sns.set(rc = {'figure.figsize':(15,8)})\n",
    "sns.countplot(x=\"OriginatingLender\",data=lender_undispersed, order = lender_undispersed['OriginatingLender'].value_counts().index).set_title(\"Undisbursed Loans: Originating Lender, top offenders\")"
   ]
  },
  {
   "cell_type": "markdown",
   "metadata": {},
   "source": [
    "We can clearly see seven lenders which are holding onto undisbursed funds. They are: Capital Plus Financial, LLC, BSD Capital, LLC, Harvest Small Business Financial, LLC, Prestamos CDFI, LLC, Benworth Capital, Customers Bank, and Leader Bank, National Association. We'll hang onto these lenders and take a closer look at them later on in the tutorial."
   ]
  },
  {
   "cell_type": "markdown",
   "metadata": {},
   "source": [
    "#### Looking at NAICS Codes"
   ]
  },
  {
   "cell_type": "markdown",
   "metadata": {},
   "source": [
    "Next, let's see if there are any trends between the type of job an individual has and whether that has any effect on whether the loan remains undisbursed. We will once again plot the count and filter based on outliers."
   ]
  },
  {
   "cell_type": "code",
   "execution_count": 60,
   "metadata": {},
   "outputs": [
    {
     "data": {
      "text/plain": [
       "Text(0.5, 1.0, 'Undisbursed Loans: NAICS Codes')"
      ]
     },
     "execution_count": 60,
     "metadata": {},
     "output_type": "execute_result"
    },
    {
     "data": {
      "image/png": "[encoded data removed]",
      "text/plain": [
       "<Figure size 1080x576 with 1 Axes>"
      ]
     },
     "metadata": {},
     "output_type": "display_data"
    }
   ],
   "source": [
    "sns.set(rc = {'figure.figsize':(15,8)})\n",
    "sns.countplot(x=\"NAICSCode\",data=vals_undisbursed).set_title(\"Undisbursed Loans: NAICS Codes\")"
   ]
  },
  {
   "cell_type": "code",
   "execution_count": 41,
   "metadata": {},
   "outputs": [],
   "source": [
    "vals_sort = vals_undisbursed[vals_undisbursed.groupby('NAICSCode').NAICSCode.transform('count')>500].copy() "
   ]
  },
  {
   "cell_type": "code",
   "execution_count": 42,
   "metadata": {},
   "outputs": [
    {
     "data": {
      "text/plain": [
       "Text(0.5, 1.0, 'Undisbursed Loans: NAICS Codes, top codes')"
      ]
     },
     "execution_count": 42,
     "metadata": {},
     "output_type": "execute_result"
    },
    {
     "data": {
      "image/png": "[encoded data removed]",
      "text/plain": [
       "<Figure size 1080x576 with 1 Axes>"
      ]
     },
     "metadata": {},
     "output_type": "display_data"
    }
   ],
   "source": [
    "sns.set(rc = {'figure.figsize':(15,8)})\n",
    "sns.countplot(x=\"NAICSCode\",data=vals_sort, order = vals_sort['NAICSCode'].value_counts().index).set_title(\"Undisbursed Loans: NAICS Codes, top codes\")"
   ]
  },
  {
   "cell_type": "code",
   "execution_count": 57,
   "metadata": {},
   "outputs": [
    {
     "data": {
      "text/plain": [
       "Text(0.5, 1.0, 'Violin Plot ofUndisbursed Loans: NAICS Codes, top codes')"
      ]
     },
     "execution_count": 57,
     "metadata": {},
     "output_type": "execute_result"
    },
    {
     "data": {
      "image/png": "[encoded data removed]",
      "text/plain": [
       "<Figure size 1080x576 with 1 Axes>"
      ]
     },
     "metadata": {},
     "output_type": "display_data"
    }
   ],
   "source": [
    "sns.set(rc = {'figure.figsize':(15,8)})\n",
    "sns.violinplot(x=\"NAICSCode\", y=\"PctUndisbursed\", data=vals_sort).set_title(\"Violin Plot of Undisbursed Loans: NAICS Codes, top codes\")"
   ]
  },
  {
   "cell_type": "markdown",
   "metadata": {},
   "source": [
    "There once again seems to be several outliers here. Looking at a violin plot of the data, we can see that there is no real variation for each of these loans: each one seems to be completely undisbursed. Despite there seeming to be a little bit of variation for a couple of the codes, the white dot in the center of each of those plots at 1.0 (and the relative flatness of each plot) indicates that these loans can be considered completely undisbursed as well. Let's take a closer look at these NAICS codes. What are these jobs? Is there something unusual here that may be preventing the loan from getting disbursed?\n",
    "<br>\n",
    "<br>\n",
    "We'll begin this analysis by matching these jobs with the corresponding salary information from the salary dataset. Since there is no direct connection between the NAICS codes and salary occupation code, we'll manually match each of these salaries to the closest matching value."
   ]
  },
  {
   "cell_type": "code",
   "execution_count": 43,
   "metadata": {},
   "outputs": [],
   "source": [
    "order = vals_sort['Title'].value_counts().index\n",
    "vals_comp = vals_sort.copy()"
   ]
  },
  {
   "cell_type": "code",
   "execution_count": 45,
   "metadata": {},
   "outputs": [
    {
     "name": "stdout",
     "output_type": "stream",
     "text": [
      "Index(['Beauty Salons ', 'Barber Shops ', 'Taxi Service ', 'Caterers',\n",
      "       'Residential Remodelers ',\n",
      "       'All Other Miscellaneous Store Retailers (except Tobacco Stores) ',\n",
      "       'All Other Personal Services ', 'Janitorial Services ',\n",
      "       'Landscaping Services', 'All Other Business Support Services ',\n",
      "       'Child Day Care Services ', 'Business Associations ',\n",
      "       'Sales Financing ', 'Independent Artists, Writers, and Performers ',\n",
      "       'Food Service Contractors', 'General Freight Trucking, Local ',\n",
      "       'Home Health Care Services', 'Couriers and Express Delivery Services'],\n",
      "      dtype='object')\n"
     ]
    }
   ],
   "source": [
    "# Let's look at what these outlier salaries are:\n",
    "print(order)"
   ]
  },
  {
   "cell_type": "code",
   "execution_count": 48,
   "metadata": {},
   "outputs": [],
   "source": [
    "# Matching each of these salaries to a corresponding value\n",
    "a = avg_sals.loc[avg_sals['Title'] == 'Barbers, Hairdressers, Hairstylists and Cosmetologists']\n",
    "b = avg_sals.loc[avg_sals['Title'] == 'Barbers']\n",
    "c = avg_sals.loc[avg_sals['Title'] == 'Passenger Vehicle Drivers, Except Bus Drivers, Transit and Intercity']\n",
    "d = avg_sals.loc[avg_sals['Title'] == 'Food Service Managers']\n",
    "e = avg_sals.loc[avg_sals['Title'] == 'Construction Laborers']\n",
    "f = avg_sals.loc[avg_sals['Title'] == 'Retail Sales Workers']\n",
    "g = avg_sals.loc[avg_sals['Title'] == 'Personal Care and Service Occupations']\n",
    "h = avg_sals.loc[avg_sals['Title'] == 'Janitors and Cleaners, Except Maids and Housekeeping Cleaners']\n",
    "i = avg_sals.loc[avg_sals['Title'] == 'Landscaping and Groundskeeping Workers']\n",
    "j = avg_sals.loc[avg_sals['Title'] == 'Office and Administrative Support Workers, All Other']\n",
    "k = avg_sals.loc[avg_sals['Title'] == 'Childcare Workers']\n",
    "l = avg_sals.loc[avg_sals['Title'] == 'Business Operations Specialists']\n",
    "m = avg_sals.loc[avg_sals['Title'] == 'Securities, Commodities, and Financial Services Sales Agents']\n",
    "n = avg_sals.loc[avg_sals['Title'] == 'Artists and Related Workers, All Other']\n",
    "o = avg_sals.loc[avg_sals['Title'] == 'Food Preparation Workers']\n",
    "p = avg_sals.loc[avg_sals['Title'] == 'Heavy and Tractor-Trailer Truck Drivers']\n",
    "q = avg_sals.loc[avg_sals['Title'] == 'Home Health and Personal Care Aides']\n",
    "r = avg_sals.loc[avg_sals['Title'] == 'Driver/Sales Workers and Truck Drivers']\n",
    "\n",
    "rows = [a,b,c,d,e,f,g,h,i,j,k,l,m,n,o,p,q,r]\n",
    "\n",
    "t = pd.concat(rows)\n",
    "\n",
    "toComp = ['Beauty Salons ', 'Barber Shops ', 'Taxi Service ', 'Caterers',\n",
    "       'Residential Remodelers ',\n",
    "       'All Other Miscellaneous Store Retailers (except Tobacco Stores) ',\n",
    "       'All Other Personal Services ', 'Janitorial Services ',\n",
    "       'Landscaping Services', 'All Other Business Support Services ',\n",
    "       'Child Day Care Services ', 'Business Associations ',\n",
    "       'Sales Financing ', 'Independent Artists, Writers, and Performers ',\n",
    "       'Food Service Contractors', 'General Freight Trucking, Local ',\n",
    "       'Home Health Care Services', 'Couriers and Express Delivery Services']\n",
    "\n",
    "# Matching the column information\n",
    "t['titleToComp'] = toComp"
   ]
  },
  {
   "cell_type": "markdown",
   "metadata": {},
   "source": [
    "Now we'll merge our new dataset. We'll do this on our initial dataset (with both disbursed and undisbursed values) to see how these jobs compare to the larger dataset. We'll also introduce two new variables:\n",
    "- RemainingUndisbursed: This is a boolean column indicating whether there remains undisbursed funds for the given business\n",
    "- SalaryExp: Since each business was only allowed to request up to 10 weeks worth of pay, using the equation from the beginning of this notebook we have determined what the expected yearly salary should be given the initial approval amount"
   ]
  },
  {
   "cell_type": "code",
   "execution_count": 53,
   "metadata": {},
   "outputs": [
    {
     "data": {
      "text/html": [
       "<div>\n",
       "<style scoped>\n",
       "    .dataframe tbody tr th:only-of-type {\n",
       "        vertical-align: middle;\n",
       "    }\n",
       "\n",
       "    .dataframe tbody tr th {\n",
       "        vertical-align: top;\n",
       "    }\n",
       "\n",
       "    .dataframe thead th {\n",
       "        text-align: right;\n",
       "    }\n",
       "</style>\n",
       "<table border=\"1\" class=\"dataframe\">\n",
       "  <thead>\n",
       "    <tr style=\"text-align: right;\">\n",
       "      <th></th>\n",
       "      <th>LoanStatus</th>\n",
       "      <th>InitialApprovalAmount</th>\n",
       "      <th>CurrentApprovalAmount</th>\n",
       "      <th>UndisbursedAmount</th>\n",
       "      <th>ServicingLenderName</th>\n",
       "      <th>RuralUrbanIndicator</th>\n",
       "      <th>HubzoneIndicator</th>\n",
       "      <th>LMIIndicator</th>\n",
       "      <th>BusinessAgeDescription</th>\n",
       "      <th>JobsReported</th>\n",
       "      <th>NAICSCode</th>\n",
       "      <th>Race</th>\n",
       "      <th>Ethnicity</th>\n",
       "      <th>BusinessType</th>\n",
       "      <th>OriginatingLender</th>\n",
       "      <th>Gender</th>\n",
       "      <th>Veteran</th>\n",
       "      <th>NonProfit</th>\n",
       "      <th>ForgivenessAmount</th>\n",
       "      <th>DateApproved</th>\n",
       "      <th>ForgivenessDate</th>\n",
       "      <th>LoanStatusDate</th>\n",
       "      <th>Zipcode</th>\n",
       "      <th>Title_x</th>\n",
       "      <th>PctUndisbursed</th>\n",
       "      <th>Occupation code</th>\n",
       "      <th>Title_y</th>\n",
       "      <th>Salary</th>\n",
       "      <th>titleToComp</th>\n",
       "    </tr>\n",
       "  </thead>\n",
       "  <tbody>\n",
       "    <tr>\n",
       "      <td>0</td>\n",
       "      <td>Paid in Full</td>\n",
       "      <td>137169.0</td>\n",
       "      <td>137169.0</td>\n",
       "      <td>0.0</td>\n",
       "      <td>U.S. Bank, National Association</td>\n",
       "      <td>U</td>\n",
       "      <td>N</td>\n",
       "      <td>N</td>\n",
       "      <td>Existing or more than 2 years old</td>\n",
       "      <td>1</td>\n",
       "      <td>236118.0</td>\n",
       "      <td>White</td>\n",
       "      <td>Not Hispanic or Latino</td>\n",
       "      <td>Corporation</td>\n",
       "      <td>U.S. Bank, National Association</td>\n",
       "      <td>Male Owned</td>\n",
       "      <td>Veteran</td>\n",
       "      <td>NaN</td>\n",
       "      <td>138460.67</td>\n",
       "      <td>2020-05-01</td>\n",
       "      <td>2021-04-12</td>\n",
       "      <td>2021-05-22</td>\n",
       "      <td>60643</td>\n",
       "      <td>Residential Remodelers</td>\n",
       "      <td>0.0</td>\n",
       "      <td>47-2061</td>\n",
       "      <td>Construction Laborers</td>\n",
       "      <td>43000.0</td>\n",
       "      <td>Residential Remodelers</td>\n",
       "    </tr>\n",
       "    <tr>\n",
       "      <td>1</td>\n",
       "      <td>Exemption 4</td>\n",
       "      <td>53607.5</td>\n",
       "      <td>53607.5</td>\n",
       "      <td>0.0</td>\n",
       "      <td>Citizens Bank of Chatsworth</td>\n",
       "      <td>U</td>\n",
       "      <td>N</td>\n",
       "      <td>Y</td>\n",
       "      <td>Existing or more than 2 years old</td>\n",
       "      <td>1</td>\n",
       "      <td>236118.0</td>\n",
       "      <td>Unanswered</td>\n",
       "      <td>Unknown/NotStated</td>\n",
       "      <td>Sole Proprietorship</td>\n",
       "      <td>Citizens Bank of Chatsworth</td>\n",
       "      <td>Unanswered</td>\n",
       "      <td>Unanswered</td>\n",
       "      <td>NaN</td>\n",
       "      <td>NaN</td>\n",
       "      <td>2021-04-21</td>\n",
       "      <td>NaT</td>\n",
       "      <td>NaT</td>\n",
       "      <td>61701</td>\n",
       "      <td>Residential Remodelers</td>\n",
       "      <td>0.0</td>\n",
       "      <td>47-2061</td>\n",
       "      <td>Construction Laborers</td>\n",
       "      <td>43000.0</td>\n",
       "      <td>Residential Remodelers</td>\n",
       "    </tr>\n",
       "    <tr>\n",
       "      <td>2</td>\n",
       "      <td>Active Un-Disbursed</td>\n",
       "      <td>52380.0</td>\n",
       "      <td>52380.0</td>\n",
       "      <td>52380.0</td>\n",
       "      <td>Leader Bank, National Association</td>\n",
       "      <td>U</td>\n",
       "      <td>N</td>\n",
       "      <td>Y</td>\n",
       "      <td>Existing or more than 2 years old</td>\n",
       "      <td>1</td>\n",
       "      <td>236118.0</td>\n",
       "      <td>Unanswered</td>\n",
       "      <td>Unknown/NotStated</td>\n",
       "      <td>Corporation</td>\n",
       "      <td>Leader Bank, National Association</td>\n",
       "      <td>Unanswered</td>\n",
       "      <td>Unanswered</td>\n",
       "      <td>NaN</td>\n",
       "      <td>NaN</td>\n",
       "      <td>2021-05-12</td>\n",
       "      <td>NaT</td>\n",
       "      <td>2021-05-12</td>\n",
       "      <td>60438</td>\n",
       "      <td>Residential Remodelers</td>\n",
       "      <td>1.0</td>\n",
       "      <td>47-2061</td>\n",
       "      <td>Construction Laborers</td>\n",
       "      <td>43000.0</td>\n",
       "      <td>Residential Remodelers</td>\n",
       "    </tr>\n",
       "    <tr>\n",
       "      <td>3</td>\n",
       "      <td>Active Un-Disbursed</td>\n",
       "      <td>50000.0</td>\n",
       "      <td>50000.0</td>\n",
       "      <td>50000.0</td>\n",
       "      <td>Texas National Bank</td>\n",
       "      <td>U</td>\n",
       "      <td>N</td>\n",
       "      <td>N</td>\n",
       "      <td>Existing or more than 2 years old</td>\n",
       "      <td>1</td>\n",
       "      <td>236118.0</td>\n",
       "      <td>Unanswered</td>\n",
       "      <td>Unknown/NotStated</td>\n",
       "      <td>Self-Employed Individuals</td>\n",
       "      <td>Texas National Bank</td>\n",
       "      <td>Unanswered</td>\n",
       "      <td>Unanswered</td>\n",
       "      <td>NaN</td>\n",
       "      <td>NaN</td>\n",
       "      <td>2021-05-20</td>\n",
       "      <td>NaT</td>\n",
       "      <td>2021-05-20</td>\n",
       "      <td>60490</td>\n",
       "      <td>Residential Remodelers</td>\n",
       "      <td>1.0</td>\n",
       "      <td>47-2061</td>\n",
       "      <td>Construction Laborers</td>\n",
       "      <td>43000.0</td>\n",
       "      <td>Residential Remodelers</td>\n",
       "    </tr>\n",
       "    <tr>\n",
       "      <td>4</td>\n",
       "      <td>Exemption 4</td>\n",
       "      <td>38460.0</td>\n",
       "      <td>38460.0</td>\n",
       "      <td>0.0</td>\n",
       "      <td>U.S. Bank, National Association</td>\n",
       "      <td>U</td>\n",
       "      <td>Y</td>\n",
       "      <td>N</td>\n",
       "      <td>Existing or more than 2 years old</td>\n",
       "      <td>1</td>\n",
       "      <td>236118.0</td>\n",
       "      <td>Black or African American</td>\n",
       "      <td>Not Hispanic or Latino</td>\n",
       "      <td>Subchapter S Corporation</td>\n",
       "      <td>U.S. Bank, National Association</td>\n",
       "      <td>Male Owned</td>\n",
       "      <td>Unanswered</td>\n",
       "      <td>NaN</td>\n",
       "      <td>NaN</td>\n",
       "      <td>2021-03-26</td>\n",
       "      <td>NaT</td>\n",
       "      <td>NaT</td>\n",
       "      <td>60609</td>\n",
       "      <td>Residential Remodelers</td>\n",
       "      <td>0.0</td>\n",
       "      <td>47-2061</td>\n",
       "      <td>Construction Laborers</td>\n",
       "      <td>43000.0</td>\n",
       "      <td>Residential Remodelers</td>\n",
       "    </tr>\n",
       "  </tbody>\n",
       "</table>\n",
       "</div>"
      ],
      "text/plain": [
       "            LoanStatus  InitialApprovalAmount  CurrentApprovalAmount  \\\n",
       "0         Paid in Full               137169.0               137169.0   \n",
       "1          Exemption 4                53607.5                53607.5   \n",
       "2  Active Un-Disbursed                52380.0                52380.0   \n",
       "3  Active Un-Disbursed                50000.0                50000.0   \n",
       "4          Exemption 4                38460.0                38460.0   \n",
       "\n",
       "   UndisbursedAmount                ServicingLenderName RuralUrbanIndicator  \\\n",
       "0                0.0    U.S. Bank, National Association                   U   \n",
       "1                0.0        Citizens Bank of Chatsworth                   U   \n",
       "2            52380.0  Leader Bank, National Association                   U   \n",
       "3            50000.0                Texas National Bank                   U   \n",
       "4                0.0    U.S. Bank, National Association                   U   \n",
       "\n",
       "  HubzoneIndicator LMIIndicator             BusinessAgeDescription  \\\n",
       "0                N            N  Existing or more than 2 years old   \n",
       "1                N            Y  Existing or more than 2 years old   \n",
       "2                N            Y  Existing or more than 2 years old   \n",
       "3                N            N  Existing or more than 2 years old   \n",
       "4                Y            N  Existing or more than 2 years old   \n",
       "\n",
       "   JobsReported  NAICSCode                       Race               Ethnicity  \\\n",
       "0             1   236118.0                      White  Not Hispanic or Latino   \n",
       "1             1   236118.0                 Unanswered       Unknown/NotStated   \n",
       "2             1   236118.0                 Unanswered       Unknown/NotStated   \n",
       "3             1   236118.0                 Unanswered       Unknown/NotStated   \n",
       "4             1   236118.0  Black or African American  Not Hispanic or Latino   \n",
       "\n",
       "                BusinessType                  OriginatingLender      Gender  \\\n",
       "0                Corporation    U.S. Bank, National Association  Male Owned   \n",
       "1        Sole Proprietorship        Citizens Bank of Chatsworth  Unanswered   \n",
       "2                Corporation  Leader Bank, National Association  Unanswered   \n",
       "3  Self-Employed Individuals                Texas National Bank  Unanswered   \n",
       "4   Subchapter S Corporation    U.S. Bank, National Association  Male Owned   \n",
       "\n",
       "      Veteran NonProfit  ForgivenessAmount DateApproved ForgivenessDate  \\\n",
       "0     Veteran       NaN          138460.67   2020-05-01      2021-04-12   \n",
       "1  Unanswered       NaN                NaN   2021-04-21             NaT   \n",
       "2  Unanswered       NaN                NaN   2021-05-12             NaT   \n",
       "3  Unanswered       NaN                NaN   2021-05-20             NaT   \n",
       "4  Unanswered       NaN                NaN   2021-03-26             NaT   \n",
       "\n",
       "  LoanStatusDate Zipcode                  Title_x  PctUndisbursed  \\\n",
       "0     2021-05-22   60643  Residential Remodelers              0.0   \n",
       "1            NaT   61701  Residential Remodelers              0.0   \n",
       "2     2021-05-12   60438  Residential Remodelers              1.0   \n",
       "3     2021-05-20   60490  Residential Remodelers              1.0   \n",
       "4            NaT   60609  Residential Remodelers              0.0   \n",
       "\n",
       "  Occupation code                Title_y   Salary              titleToComp  \n",
       "0         47-2061  Construction Laborers  43000.0  Residential Remodelers   \n",
       "1         47-2061  Construction Laborers  43000.0  Residential Remodelers   \n",
       "2         47-2061  Construction Laborers  43000.0  Residential Remodelers   \n",
       "3         47-2061  Construction Laborers  43000.0  Residential Remodelers   \n",
       "4         47-2061  Construction Laborers  43000.0  Residential Remodelers   "
      ]
     },
     "execution_count": 53,
     "metadata": {},
     "output_type": "execute_result"
    }
   ],
   "source": [
    "sal_to_comp = pd.merge(vals, t,  left_on='Title', right_on='titleToComp')\n",
    "\n",
    "sal_to_comp.head(5)"
   ]
  },
  {
   "cell_type": "code",
   "execution_count": 54,
   "metadata": {},
   "outputs": [],
   "source": [
    "sal_to_comp['RemainingUndisbursed'] = False\n",
    "sal_to_comp.loc[sal_to_comp['UndisbursedAmount'] != 0, 'RemainingUndisbursed'] = True\n",
    "\n",
    "sal_to_comp['SalaryExp'] = 12 * (sal_to_comp['InitialApprovalAmount']/2.5)"
   ]
  },
  {
   "cell_type": "markdown",
   "metadata": {},
   "source": [
    "Let's pull out the top 6 NAICS codes to get a closer look. We'll graph each of these plots by adding an axis line for the average salary of each profession and a hue to determine if there are remaining undisbursed funds."
   ]
  },
  {
   "cell_type": "code",
   "execution_count": 61,
   "metadata": {},
   "outputs": [],
   "source": [
    "salons = sal_to_comp.loc[sal_to_comp['NAICSCode'] == 812112]\n",
    "barbers = sal_to_comp.loc[sal_to_comp['NAICSCode'] == 812111]\n",
    "drivers = sal_to_comp.loc[sal_to_comp['NAICSCode'] == 485310]\n",
    "caterers = sal_to_comp.loc[sal_to_comp['NAICSCode'] == 722320]\n",
    "remodelers = sal_to_comp.loc[sal_to_comp['NAICSCode'] == 236118]\n",
    "retailers = sal_to_comp.loc[sal_to_comp['NAICSCode'] == 453998]"
   ]
  },
  {
   "cell_type": "code",
   "execution_count": 85,
   "metadata": {},
   "outputs": [
    {
     "data": {
      "image/png": "[encoded data removed]",
      "text/plain": [
       "<Figure size 1152x432 with 3 Axes>"
      ]
     },
     "metadata": {},
     "output_type": "display_data"
    }
   ],
   "source": [
    "_ , ax = plt.subplots(1,3, figsize=(16,6))\n",
    "sns.violinplot(x=\"NAICSCode\", y = 'SalaryExp', data = salons, hue='RemainingUndisbursed', ax = ax[0]).set_title(\"Salon Salaries\")\n",
    "l0=ax[0].axhline(32990,color='black',ls='--')\n",
    "sns.violinplot(x=\"NAICSCode\", y = 'SalaryExp', data = barbers, hue='RemainingUndisbursed', ax = ax[1]).set_title(\"Barber Salaries\")\n",
    "l1=ax[1].axhline(38050,color='black',ls='--')\n",
    "sns.violinplot(x=\"NAICSCode\", y = 'SalaryExp', data = drivers, hue='RemainingUndisbursed', ax = ax[2]).set_title(\"Taxi Driver Salaries\")\n",
    "l2=ax[2].axhline(34360,color='black',ls='--')"
   ]
  },
  {
   "cell_type": "code",
   "execution_count": 87,
   "metadata": {},
   "outputs": [
    {
     "data": {
      "image/png": "[encoded data removed]",
      "text/plain": [
       "<Figure size 1152x432 with 3 Axes>"
      ]
     },
     "metadata": {},
     "output_type": "display_data"
    }
   ],
   "source": [
    "_ , ax = plt.subplots(1,3, figsize=(16,6))\n",
    "sns.violinplot(x=\"NAICSCode\", y = 'SalaryExp', data = caterers, hue='RemainingUndisbursed', ax = ax[0]).set_title(\"Caterer Salaries\")\n",
    "l0=ax[0].axhline(61000,color='black',ls='--')\n",
    "sns.violinplot(x=\"NAICSCode\", y = 'SalaryExp', data = remodelers, hue='RemainingUndisbursed', ax = ax[1]).set_title(\"Remodeler Salaries\")\n",
    "l1=ax[1].axhline(43000,color='black',ls='--')\n",
    "sns.violinplot(x=\"NAICSCode\", y = 'SalaryExp', data = retailers, hue='RemainingUndisbursed', ax = ax[2]).set_title(\"Retail Worker Salaries\")\n",
    "l2=ax[2].axhline(29010,color='black',ls='--')"
   ]
  },
  {
   "cell_type": "markdown",
   "metadata": {},
   "source": [
    "It's interesting to note here that while there does not seem to be any correlation between the amout request and whether the funds were disbursed, the salary expectations for each of these jobs are significantly higher than what the average should be. For example, barber shops and retail workers consistently are claiming that their salaries are almost double average (about \\\\$100,000). In several of these cases, there are individuals requesting the equivalent of several hundred thousand dollars (an entire order of magnitude above average). One other interesting point is that the average salary request for undisbursed funds for taxi drivers is almost twice that of taxi drivers whose funds were disbursed. We will continue our analysis keeping these ideas in mind."
   ]
  },
  {
   "cell_type": "markdown",
   "metadata": {},
   "source": [
    "#### Looking at Demographic Data"
   ]
  },
  {
   "cell_type": "markdown",
   "metadata": {},
   "source": [
    "We'll now look at a few different demographic metrics for our previously determined NAICS codes. These plots should help us determine whether these attributes can later be used for predictive analysis."
   ]
  },
  {
   "cell_type": "code",
   "execution_count": 88,
   "metadata": {},
   "outputs": [
    {
     "data": {
      "text/plain": [
       "Text(0.5, 1.0, 'Undisbursed Funds: Gender')"
      ]
     },
     "execution_count": 88,
     "metadata": {},
     "output_type": "execute_result"
    },
    {
     "data": {
      "image/png": "[encoded data removed]",
      "text/plain": [
       "<Figure size 1080x576 with 1 Axes>"
      ]
     },
     "metadata": {},
     "output_type": "display_data"
    }
   ],
   "source": [
    "sns.set(rc = {'figure.figsize':(15,8)})\n",
    "sns.countplot(x=\"NAICSCode\",data=vals_sort, order = vals_sort['NAICSCode'].value_counts().index, hue='Gender').set_title(\"Undisbursed Funds: Gender\")"
   ]
  },
  {
   "cell_type": "code",
   "execution_count": 89,
   "metadata": {},
   "outputs": [
    {
     "data": {
      "text/plain": [
       "Text(0.5, 1.0, 'Undisbursed Funds: Veteran Status')"
      ]
     },
     "execution_count": 89,
     "metadata": {},
     "output_type": "execute_result"
    },
    {
     "data": {
      "image/png": "[encoded data removed]",
      "text/plain": [
       "<Figure size 1080x576 with 1 Axes>"
      ]
     },
     "metadata": {},
     "output_type": "display_data"
    }
   ],
   "source": [
    "sns.set(rc = {'figure.figsize':(15,8)})\n",
    "sns.countplot(x=\"NAICSCode\",data=vals_sort, order = vals_sort['NAICSCode'].value_counts().index, hue='Veteran').set_title(\"Undisbursed Funds: Veteran Status\")"
   ]
  },
  {
   "cell_type": "code",
   "execution_count": 90,
   "metadata": {},
   "outputs": [
    {
     "data": {
      "text/plain": [
       "Text(0.5, 1.0, 'Undisbursed Funds: Race')"
      ]
     },
     "execution_count": 90,
     "metadata": {},
     "output_type": "execute_result"
    },
    {
     "data": {
      "image/png": "[encoded data removed]",
      "text/plain": [
       "<Figure size 1080x576 with 1 Axes>"
      ]
     },
     "metadata": {},
     "output_type": "display_data"
    }
   ],
   "source": [
    "sns.set(rc = {'figure.figsize':(15,8)})\n",
    "sns.countplot(x=\"NAICSCode\",data=vals_sort, order = vals_sort['NAICSCode'].value_counts().index, hue='Race').set_title(\"Undisbursed Funds: Race\")"
   ]
  },
  {
   "cell_type": "markdown",
   "metadata": {},
   "source": [
    "Looking at this demographic data, we can see that the majority of borrowers did not answer questions related to gender, race, and veteran status. These are all cases of Missing Not At Random data. There are a few different ways for resolving this. One method is to impute the data and test how it effects our datasets. Another method would be to look at the census data for each borrower's zip code and fill in the best approximation of each borrower's demographics. In our case, we will drop these attributes when completing our predictive analysis- since it was majority unanswered, these demographics were presumably not relevant when approving the loans."
   ]
  },
  {
   "cell_type": "markdown",
   "metadata": {},
   "source": [
    "#### Looking at location data"
   ]
  },
  {
   "cell_type": "markdown",
   "metadata": {},
   "source": [
    "The last attribute we will analyze in our exploratory data analysis phase is location data. We will see if there is anything we can discern based on address information for each borrower. To do this, we need to get the latitude and longitude of each address. This process can take an extremely long time complete, so instead of running the address code more than once, we have instead run it in a separate window and exported the addresses into a csv that can be loaded in. The code to build this csv is provided, but commented out.\n",
    "<br>\n",
    "<br>\n",
    "This map was built using Folium (referenced above). Each dot on the map represents the amount of the loan that is still undisbursed."
   ]
  },
  {
   "cell_type": "code",
   "execution_count": null,
   "metadata": {},
   "outputs": [],
   "source": []
  },
  {
   "cell_type": "code",
   "execution_count": null,
   "metadata": {},
   "outputs": [],
   "source": [
    "'''\n",
    "coords = []\n",
    "for addr, city, state in zip(single['BorrowerAddress'], single['BorrowerCity'], single['BorrowerState']):\n",
    "    loc = geolocator.geocode(addr+ ',' +city+','+ state, timeout=None)\n",
    "    \n",
    "    if (loc is None):\n",
    "        loc = geolocator.geocode(city+','+ state, timeout=None)\n",
    "    elif(loc.latitude is None or loc.longitude is None):\n",
    "        coords.append([100,100])\n",
    "    else:\n",
    "        coords.append([loc.latitude, loc.longitude])\n",
    "'''"
   ]
  },
  {
   "cell_type": "code",
   "execution_count": null,
   "metadata": {},
   "outputs": [],
   "source": [
    "# setting the starting latitude, longitude and zoom.\n",
    "loans_map = folium.Map(location=[40.1469622455993, -88.97747884394317], zoom_start=4.45, tiles='Stamen Terrain')\n",
    "\n",
    "# this funciton returns a color based on the value of damage property\n",
    "def rank_amount(amount):\n",
    "    if amount == 0:\n",
    "        return 'lightgreen'\n",
    "    elif amount > 0 and amount < 0.25:\n",
    "        return 'green'\n",
    "    elif amount > 0.25 and amount < 0.5:\n",
    "        return 'yellow'\n",
    "    elif amount > 0.5 and amount < 0.75:\n",
    "        return 'orange'\n",
    "    elif amount > 0.75:\n",
    "        return 'red'\n",
    "    else:\n",
    "        return 'black'"
   ]
  },
  {
   "cell_type": "code",
   "execution_count": null,
   "metadata": {},
   "outputs": [],
   "source": [
    "for coords, amount in zip(coords_to_test['coords'], coords_to_test['PctUndisbursed']):\n",
    "    folium.CircleMarker(\n",
    "        location = coords, \n",
    "        radius=2, \n",
    "        fill=True, \n",
    "        color=rank_amount(amount)).add_to(loans_map)"
   ]
  },
  {
   "cell_type": "code",
   "execution_count": null,
   "metadata": {},
   "outputs": [],
   "source": [
    "loans_map"
   ]
  },
  {
   "cell_type": "markdown",
   "metadata": {},
   "source": []
  },
  {
   "cell_type": "markdown",
   "metadata": {},
   "source": [
    "## Analysis: Hypothesis Testing and Machine Learning"
   ]
  },
  {
   "cell_type": "markdown",
   "metadata": {},
   "source": [
    "Now that we've completed our Exploratory Data Analysis, we can now dive into our hypothesis testing and machine learning algorithms. The two main attributes we'd like to look at for our testing is OriginatingLender and NAICSCode, since both of these attributes seemed to have some significant outliers when visualizing the data. We'll start off by running logistic regression on our outlier lenders and outlier NAICS codes to check whether there is a correlation between these values and whether a borrower still has an undisbursed balance."
   ]
  },
  {
   "cell_type": "markdown",
   "metadata": {},
   "source": [
    "### Hypothesis Testing"
   ]
  },
  {
   "cell_type": "markdown",
   "metadata": {},
   "source": [
    "First, let's see if it is true that there is a relationship between the originating lender a business chooses to use and whether they still have undisbursed funds. Since these are categorical variables, we will conduct a logistic regression analysis using the 'OriginatingLender' and 'RemainingUndisbursed' columns. Since we will be using logistic regression, we used one-hot encoding to check if the originating lender was any of our previously determined outlier lenders.\n",
    "\n",
    "The results of this analysis will help us see if there is truly a relationship between these values."
   ]
  },
  {
   "cell_type": "code",
   "execution_count": 91,
   "metadata": {},
   "outputs": [],
   "source": [
    "analysis = vals.copy()"
   ]
  },
  {
   "cell_type": "markdown",
   "metadata": {},
   "source": [
    "#### Analysis on Originating Lender Information"
   ]
  },
  {
   "cell_type": "code",
   "execution_count": 92,
   "metadata": {},
   "outputs": [],
   "source": [
    "analysis['RemainingUndisbursed'] = 0\n",
    "analysis.loc[vals['UndisbursedAmount'] != 0, 'RemainingUndisbursed'] = 1\n",
    "\n",
    "analysis['isCPFBank'] = 0\n",
    "analysis['isBSDBank'] = 0\n",
    "analysis['isHSBBank'] = 0\n",
    "analysis['isPCDFIBank'] = 0\n",
    "analysis['isBCBank'] = 0\n",
    "analysis['isCBBank'] = 0\n",
    "analysis['isLBNABank'] = 0\n",
    "\n",
    "analysis.loc[analysis['OriginatingLender'] == 'Capital Plus Financial, LLC', 'isCPFBank'] = 1\n",
    "analysis.loc[analysis['OriginatingLender'] == 'BSD Capital, LLC dba Lendistry', 'isBSDBank'] = 1\n",
    "analysis.loc[analysis['OriginatingLender'] == 'Harvest Small Business Finance, LLC', 'isHSBBank'] = 1\n",
    "analysis.loc[analysis['OriginatingLender'] == 'Prestamos CDFI, LLC', 'isPCDFIBank'] = 1\n",
    "analysis.loc[analysis['OriginatingLender'] == 'Benworth Capital', 'isBCBank'] = 1\n",
    "analysis.loc[analysis['OriginatingLender'] == 'Customers Bank', 'isCBBank'] = 1\n",
    "analysis.loc[analysis['OriginatingLender'] == 'Leader Bank, National Association', 'isLBNABank'] = 1"
   ]
  },
  {
   "cell_type": "code",
   "execution_count": 97,
   "metadata": {},
   "outputs": [
    {
     "name": "stdout",
     "output_type": "stream",
     "text": [
      "Optimization terminated successfully.\n",
      "         Current function value: 0.585561\n",
      "         Iterations 6\n"
     ]
    }
   ],
   "source": [
    "Xtrain = analysis[['isCPFBank', 'isBSDBank', 'isHSBBank', 'isPCDFIBank', 'isBCBank', 'isCBBank', 'isLBNABank']]\n",
    "ytrain = analysis[['RemainingUndisbursed']]\n",
    "  \n",
    "# building the model and fitting the data\n",
    "log_reg = sm.Logit(ytrain, Xtrain).fit()"
   ]
  },
  {
   "cell_type": "code",
   "execution_count": 98,
   "metadata": {},
   "outputs": [
    {
     "name": "stdout",
     "output_type": "stream",
     "text": [
      "                            Logit Regression Results                            \n",
      "================================================================================\n",
      "Dep. Variable:     RemainingUndisbursed   No. Observations:               420083\n",
      "Model:                            Logit   Df Residuals:                   420076\n",
      "Method:                             MLE   Df Model:                            6\n",
      "Date:                  Mon, 20 Dec 2021   Pseudo R-squ.:                 -0.7943\n",
      "Time:                          16:47:26   Log-Likelihood:            -2.4598e+05\n",
      "converged:                         True   LL-Null:                   -1.3709e+05\n",
      "Covariance Type:              nonrobust   LLR p-value:                     1.000\n",
      "===============================================================================\n",
      "                  coef    std err          z      P>|z|      [0.025      0.975]\n",
      "-------------------------------------------------------------------------------\n",
      "isCPFBank      -1.1150      0.010   -116.428      0.000      -1.134      -1.096\n",
      "isBSDBank      -0.1257      0.014     -9.028      0.000      -0.153      -0.098\n",
      "isHSBBank      -2.3730      0.017   -142.190      0.000      -2.406      -2.340\n",
      "isPCDFIBank    -2.0375      0.017   -117.932      0.000      -2.071      -2.004\n",
      "isBCBank       -1.8794      0.020    -94.054      0.000      -1.919      -1.840\n",
      "isCBBank       -0.9353      0.023    -40.900      0.000      -0.980      -0.890\n",
      "isLBNABank      0.9895      0.047     21.239      0.000       0.898       1.081\n",
      "===============================================================================\n"
     ]
    }
   ],
   "source": [
    "print(log_reg.summary())"
   ]
  },
  {
   "cell_type": "markdown",
   "metadata": {},
   "source": [
    "Reading the summary table, we can see that our initial hypothesis is true! There is a relationship between the originating lender and whether the loan has been disbursed. We can first note that the LLR p-value is 1.000. This means that our analysis does a complete job of describing the data. Now we can interpret the data by looking at the P>|z| column of the statsmodels summary. The 0.000 p-value indicates there is a 0% chance that this data happened by chance, meaning that there is a relationship between whether the loan was disbursed and whether the originating lender is one of the top lenders found earlier.\n",
    "<br>\n",
    "<br>\n",
    "Originating lender wasn't the only variable we found. Let's do another analysis based on the top NAICS Codes to see if our earlier hypothesis is true."
   ]
  },
  {
   "cell_type": "markdown",
   "metadata": {},
   "source": [
    "#### Analysis on Job Information"
   ]
  },
  {
   "cell_type": "code",
   "execution_count": 99,
   "metadata": {},
   "outputs": [],
   "source": [
    "analysis['isHairstylist'] = 0\n",
    "analysis['isBarber'] = 0\n",
    "analysis['isDriver'] = 0\n",
    "analysis['isCaterer'] = 0\n",
    "analysis['isRemodeler'] = 0\n",
    "analysis['isRetail'] = 0\n",
    "analysis['isPersonalCare'] = 0\n",
    "analysis['isJanitor'] = 0\n",
    "analysis['isLandscaper'] = 0\n",
    "analysis['isBSS'] = 0\n",
    "analysis['isDaycare'] = 0\n",
    "analysis['isBA'] = 0\n",
    "analysis['isSF'] = 0\n",
    "analysis['isArtist'] = 0\n",
    "analysis['isFSC'] = 0\n",
    "analysis['isTrucker'] = 0\n",
    "analysis['isHomeHealth'] = 0\n",
    "analysis['isCourier'] = 0\n",
    "\n",
    "analysis.loc[analysis['NAICSCode'] == 812112, 'isHairstylist'] = 1\n",
    "analysis.loc[analysis['NAICSCode'] == 812111, 'isBarber'] = 1\n",
    "analysis.loc[analysis['NAICSCode'] == 485310, 'isDriver'] = 1\n",
    "analysis.loc[analysis['NAICSCode'] == 722320, 'isCaterer'] = 1\n",
    "analysis.loc[analysis['NAICSCode'] == 236118, 'isRemodeler'] = 1\n",
    "analysis.loc[analysis['NAICSCode'] == 453998, 'isRetail'] = 1\n",
    "analysis.loc[analysis['NAICSCode'] == 812990, 'isPersonalCare'] = 1\n",
    "analysis.loc[analysis['NAICSCode'] == 561720, 'isJanitor'] = 1\n",
    "analysis.loc[analysis['NAICSCode'] == 561730, 'isLandscaper'] = 1\n",
    "analysis.loc[analysis['NAICSCode'] == 561499, 'isBSS'] = 1\n",
    "analysis.loc[analysis['NAICSCode'] == 624410, 'isDaycare'] = 1\n",
    "analysis.loc[analysis['NAICSCode'] == 813910, 'isBA'] = 1\n",
    "analysis.loc[analysis['NAICSCode'] == 522220, 'isSF'] = 1\n",
    "analysis.loc[analysis['NAICSCode'] == 711510, 'isArtist'] = 1\n",
    "analysis.loc[analysis['NAICSCode'] == 722310, 'isFSC'] = 1\n",
    "analysis.loc[analysis['NAICSCode'] == 484110, 'isTrucker'] = 1\n",
    "analysis.loc[analysis['NAICSCode'] == 621610, 'isHomeHealth'] = 1\n",
    "analysis.loc[analysis['NAICSCode'] == 492110, 'isCourier'] = 1"
   ]
  },
  {
   "cell_type": "code",
   "execution_count": 100,
   "metadata": {},
   "outputs": [
    {
     "name": "stdout",
     "output_type": "stream",
     "text": [
      "Optimization terminated successfully.\n",
      "         Current function value: 0.558937\n",
      "         Iterations 7\n"
     ]
    }
   ],
   "source": [
    "Xtrain2 = analysis[['isHairstylist','isBarber','isDriver', 'isCaterer', 'isRemodeler', 'isRetail', 'isPersonalCare',\n",
    "                'isJanitor', 'isLandscaper', 'isBSS', 'isDaycare', 'isBA', 'isSF', 'isArtist', 'isFSC', 'isTrucker',\n",
    "                'isHomeHealth', 'isCourier']]\n",
    "ytrain2 = analysis[['RemainingUndisbursed']]\n",
    "  \n",
    "# building the model and fitting the data\n",
    "log_reg2 = sm.Logit(ytrain2, Xtrain2).fit()"
   ]
  },
  {
   "cell_type": "code",
   "execution_count": 101,
   "metadata": {},
   "outputs": [
    {
     "name": "stdout",
     "output_type": "stream",
     "text": [
      "                            Logit Regression Results                            \n",
      "================================================================================\n",
      "Dep. Variable:     RemainingUndisbursed   No. Observations:               420083\n",
      "Model:                            Logit   Df Residuals:                   420065\n",
      "Method:                             MLE   Df Model:                           17\n",
      "Date:                  Mon, 20 Dec 2021   Pseudo R-squ.:                 -0.7127\n",
      "Time:                          16:49:56   Log-Likelihood:            -2.3480e+05\n",
      "converged:                         True   LL-Null:                   -1.3709e+05\n",
      "Covariance Type:              nonrobust   LLR p-value:                     1.000\n",
      "==================================================================================\n",
      "                     coef    std err          z      P>|z|      [0.025      0.975]\n",
      "----------------------------------------------------------------------------------\n",
      "isHairstylist     -1.7872      0.014   -124.091      0.000      -1.815      -1.759\n",
      "isBarber          -1.6776      0.021    -79.015      0.000      -1.719      -1.636\n",
      "isDriver          -2.1905      0.026    -85.652      0.000      -2.241      -2.140\n",
      "isCaterer         -1.5663      0.029    -54.435      0.000      -1.623      -1.510\n",
      "isRemodeler       -1.9213      0.031    -61.036      0.000      -1.983      -1.860\n",
      "isRetail          -1.9383      0.034    -57.822      0.000      -2.004      -1.873\n",
      "isPersonalCare    -2.7191      0.033    -83.452      0.000      -2.783      -2.655\n",
      "isJanitor         -1.9823      0.036    -54.847      0.000      -2.053      -1.911\n",
      "isLandscaper      -1.7525      0.041    -43.231      0.000      -1.832      -1.673\n",
      "isBSS             -1.6343      0.042    -38.868      0.000      -1.717      -1.552\n",
      "isDaycare         -2.2530      0.042    -54.093      0.000      -2.335      -2.171\n",
      "isBA              -1.5071      0.044    -34.090      0.000      -1.594      -1.420\n",
      "isSF              -1.4381      0.045    -31.827      0.000      -1.527      -1.350\n",
      "isArtist          -1.9971      0.045    -44.465      0.000      -2.085      -1.909\n",
      "isFSC             -1.3696      0.047    -28.915      0.000      -1.462      -1.277\n",
      "isTrucker         -3.1424      0.043    -72.286      0.000      -3.228      -3.057\n",
      "isHomeHealth      -1.7689      0.048    -37.139      0.000      -1.862      -1.676\n",
      "isCourier         -1.9825      0.047    -41.974      0.000      -2.075      -1.890\n",
      "==================================================================================\n"
     ]
    }
   ],
   "source": [
    "print(log_reg2.summary())"
   ]
  },
  {
   "cell_type": "markdown",
   "metadata": {},
   "source": [
    "Again we can see there is a relationship between different jobs and whether the loan remains undisbursed."
   ]
  },
  {
   "cell_type": "markdown",
   "metadata": {},
   "source": [
    "### Machine Learning"
   ]
  },
  {
   "cell_type": "markdown",
   "metadata": {},
   "source": [
    "Now we're going to try and run some predictive analyses. Since we are trying to predict an outcome based on categorical data, we will run the [RandomForest](https://scikit-learn.org/stable/modules/generated/sklearn.ensemble.RandomForestClassifier.html) and [DecisionTree](https://scikit-learn.org/stable/modules/generated/sklearn.tree.DecisionTreeClassifier.html) classifiers. To learn more about either classifier, click the link attached to each algorithm. Both of these classifiers work by making decisions based on different features of the dataset. While most of our data is already encoded, we'll add in the 'isRural', 'isHubzone', and 'isLMI' as additional features.\n",
    "<br>\n",
    "<br>\n",
    "To begin, we will first run a random_grid analysis on several options for each classifier. The output of these searches will help us determine what the best hyperparameters for our analysis should be. We'll then run each classifier according to these hyperparamaters and run a 10-fold cross-validation on each output to determine the accuracy of each classifier."
   ]
  },
  {
   "cell_type": "code",
   "execution_count": 102,
   "metadata": {},
   "outputs": [],
   "source": [
    "analysis[\"isRural\"] = False\n",
    "analysis.loc[analysis['RuralUrbanIndicator'] == 'R', 'isRural'] = True\n",
    "\n",
    "analysis[\"isHubzone\"] = False\n",
    "analysis.loc[analysis['HubzoneIndicator'] == 'Y', 'isHubzone'] = True\n",
    "\n",
    "analysis[\"isLMI\"] = False\n",
    "analysis.loc[analysis['LMIIndicator'] == 'Y', 'isLMI'] = True"
   ]
  },
  {
   "cell_type": "code",
   "execution_count": 103,
   "metadata": {},
   "outputs": [],
   "source": [
    "X = analysis[['InitialApprovalAmount', 'isRural', 'isHubzone', 'isLMI', 'isCPFBank', 'isBSDBank', \n",
    "          'isHSBBank', 'isPCDFIBank', 'isBCBank', 'isCBBank', 'isLBNABank', 'isHairstylist', 'isBarber', 'isDriver', 'isCaterer',\n",
    "          'isRemodeler', 'isRetail', 'isPersonalCare', 'isJanitor', 'isLandscaper', 'isBSS', 'isDaycare', 'isBA', 'isSF', \n",
    "          'isArtist', 'isFSC', 'isTrucker', 'isHomeHealth', 'isCourier']]\n",
    "y = analysis['RemainingUndisbursed']"
   ]
  },
  {
   "cell_type": "code",
   "execution_count": 104,
   "metadata": {},
   "outputs": [],
   "source": [
    "# Using an 80-20 split on the data\n",
    "X_train, X_test, y_train, y_test = train_test_split(X, y, test_size=0.2, random_state=42)"
   ]
  },
  {
   "cell_type": "markdown",
   "metadata": {},
   "source": [
    "#### RandomForest Classification"
   ]
  },
  {
   "cell_type": "code",
   "execution_count": 105,
   "metadata": {},
   "outputs": [],
   "source": [
    "rf = RandomForestClassifier()"
   ]
  },
  {
   "cell_type": "code",
   "execution_count": null,
   "metadata": {},
   "outputs": [
    {
     "name": "stdout",
     "output_type": "stream",
     "text": [
      "Fitting 10 folds for each of 100 candidates, totalling 1000 fits\n"
     ]
    },
    {
     "name": "stderr",
     "output_type": "stream",
     "text": [
      "[Parallel(n_jobs=-1)]: Using backend LokyBackend with 8 concurrent workers.\n",
      "[Parallel(n_jobs=-1)]: Done  25 tasks      | elapsed:  1.3min\n",
      "[Parallel(n_jobs=-1)]: Done 146 tasks      | elapsed:  4.2min\n",
      "[Parallel(n_jobs=-1)]: Done 349 tasks      | elapsed: 11.6min\n"
     ]
    }
   ],
   "source": [
    "random_grid = {'n_estimators': [10, 20, 30, 40, 50],\n",
    "               'max_features': ['auto', 'sqrt'],\n",
    "               'max_depth': [1, 2, 4, 8, 16],\n",
    "               'min_samples_split': [2, 5, 10],\n",
    "               'min_samples_leaf': [1, 4, 9],\n",
    "               'bootstrap': [True, False]}\n",
    "rf_random = RandomizedSearchCV(estimator = rf, param_distributions = random_grid, n_iter = 100, cv = 10, verbose=2, random_state=42, n_jobs = -1)\n",
    "\n",
    "rf_random.fit(X_train, y_train)"
   ]
  },
  {
   "cell_type": "code",
   "execution_count": null,
   "metadata": {},
   "outputs": [],
   "source": [
    "# Feed these parameters into the algorithm\n",
    "rf_random.best_params_"
   ]
  },
  {
   "cell_type": "code",
   "execution_count": null,
   "metadata": {},
   "outputs": [],
   "source": [
    "clf_p = RandomForestClassifier(n_estimators = 20, min_samples_split = 5, min_samples_leaf = 4, max_features = 'auto', max_depth = 16, bootstrap = True)\n",
    "clf_p.fit(X_train, y_train)\n",
    "\n",
    "clfp_pred = clf_p.predict(X_test)"
   ]
  },
  {
   "cell_type": "code",
   "execution_count": null,
   "metadata": {},
   "outputs": [],
   "source": [
    "clf_score = cross_val_score(clf_p, X, y, cv = 10)"
   ]
  },
  {
   "cell_type": "markdown",
   "metadata": {},
   "source": [
    "#### DecisionTree Classification"
   ]
  },
  {
   "cell_type": "code",
   "execution_count": null,
   "metadata": {},
   "outputs": [],
   "source": [
    "cf = DecisionTreeClassifier()"
   ]
  },
  {
   "cell_type": "code",
   "execution_count": null,
   "metadata": {},
   "outputs": [],
   "source": [
    "random_grid = {'criterion': ['gini', 'entropy'],\n",
    "               'splitter': ['best', 'random'],\n",
    "               'max_depth': [1, 2, 4, 8, 16],\n",
    "               'min_samples_split': [2, 5, 10],\n",
    "               'min_samples_leaf': [1, 4, 9]}\n",
    "cf_random = RandomizedSearchCV(estimator = cf, param_distributions = random_grid, n_iter = 100, cv = 10, verbose=2, random_state=42, n_jobs = -1)\n",
    "\n",
    "cf_random.fit(X_train, y_train)"
   ]
  },
  {
   "cell_type": "code",
   "execution_count": null,
   "metadata": {},
   "outputs": [],
   "source": [
    "# Feed these parameters into the algorithm\n",
    "cf_random.best_params_"
   ]
  },
  {
   "cell_type": "code",
   "execution_count": null,
   "metadata": {},
   "outputs": [],
   "source": [
    "clf_d = DecisionTreeClassifier(random_state = 42, splitter = 'best', min_samples_split = 2, min_samples_leaf = 9, max_depth = 8, criterion = 'entropy')\n",
    "clf_d.fit(X_train, y_train)\n",
    "\n",
    "clfd_pred = clf_d.predict(X_test)"
   ]
  },
  {
   "cell_type": "code",
   "execution_count": null,
   "metadata": {},
   "outputs": [],
   "source": [
    "d_clf_score = cross_val_score(clf_d, X, y, cv = 10)"
   ]
  },
  {
   "cell_type": "markdown",
   "metadata": {},
   "source": [
    "Now let's compare how well each algorithm did:"
   ]
  },
  {
   "cell_type": "code",
   "execution_count": null,
   "metadata": {},
   "outputs": [],
   "source": [
    "print(stats.mean(clf_score))\n",
    "print(stats.mean(d_clf_score))"
   ]
  },
  {
   "cell_type": "markdown",
   "metadata": {},
   "source": []
  },
  {
   "cell_type": "markdown",
   "metadata": {},
   "source": [
    "## Final Message"
   ]
  },
  {
   "cell_type": "markdown",
   "metadata": {},
   "source": [
    "Now that we've walked through the entire data science pipeline, let's talk about some of our findings. We learned that there is a colleration between the originating lender a borrower selects for their loan and whether or not their loan is disbursed. We also learned that certain jobs are less likely to have their loan fully disbursed. Using these values as features for our predictors, we were able to correctly predict whether a given borrower would have an outstanding loan disbursement. Borrowers in Illinois should beware when applying for future loans and take note of who they are using as their originating lender.\n",
    "<br>\n",
    "<br>\n",
    "There are still several opportunities for extended analysis here. First of all, this analysis was confined to Illinois. It would be interesting to see if any of the trends discovered here extend to other states, and if not, what the differences are. There is also an opportunity to bring in more demographic data and see if that has any other effects on loan disbursement. Historically, there has been some conflict regarding race and loans, so mapping out that process to this data may provide new insights as well.\n",
    "<br>\n",
    "<br>\n",
    "We hope you enjoyed learning about data science and PPP Loan data through this tutorial!"
   ]
  },
  {
   "cell_type": "code",
   "execution_count": null,
   "metadata": {},
   "outputs": [],
   "source": []
  }
 ],
 "metadata": {
  "kernelspec": {
   "display_name": "Python 3",
   "language": "python",
   "name": "python3"
  },
  "language_info": {
   "codemirror_mode": {
    "name": "ipython",
    "version": 3
   },
   "file_extension": ".py",
   "mimetype": "text/x-python",
   "name": "python",
   "nbconvert_exporter": "python",
   "pygments_lexer": "ipython3",
   "version": "3.7.4"
  }
 },
 "nbformat": 4,
 "nbformat_minor": 2
}
